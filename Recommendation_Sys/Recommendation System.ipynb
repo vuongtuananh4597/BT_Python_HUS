{
 "cells": [
  {
   "cell_type": "markdown",
   "metadata": {},
   "source": [
    "# Recommendation System\n",
    "1. Content-based model<br>\n",
    "2. Collaborative filtering model<br>\n",
    "3. Matrix Factorization<br>\n",
    "4. Deep model"
   ]
  },
  {
   "cell_type": "markdown",
   "metadata": {},
   "source": [
    "1. Content-based model\n",
    "- Ma trận user-item được xây dựng dựa theo \"nội dung\" của item mà không quan tâm mối liên hệ giữa các user\n",
    "- item được phân loại theo từng cluster theo từng mục đích (nội dung, tags, ...)\n",
    "- Xây dựng ma trận theo độ tương quan \n",
    "1.1 Utility matrix\n",
    "- Là ma trận với index hàng là user và cột là item (NxM)\n",
    "- Giá trị được sử dụng là điểm rating của từng user với một hay nhiều item. Điều này dẫn đến ma trận xây dựng được là ma trận thưa\n",
    "\n",
    "\n",
    "(bổ sung)"
   ]
  },
  {
   "cell_type": "code",
   "execution_count": null,
   "metadata": {},
   "outputs": [],
   "source": [
    "import os\n",
    "from pprint import pprint\n",
    "import pandas as pd\n",
    "import numpy as np\n",
    "import matplotlib.pyplot as plt\n",
    "import seaborn as sns\n",
    "from scipy.sparse.linalg import svds\n",
    "\n",
    "import utils\n",
    "from svd import SVD\n",
    "from nmf import NMF\n",
    "\n",
    "sns.set(rc={'figure.figsize':(10, 6)})"
   ]
  },
  {
   "cell_type": "markdown",
   "metadata": {},
   "source": [
    "## 1. Load data\n",
    "\n",
    "### Summary\n",
    "\n",
    "```\n",
    "ml-1m\n",
    "├── users.dat\n",
    "├── movies.dat\n",
    "├── ratings.dat\n",
    "└── README.txt\n",
    "```"
   ]
  },
  {
   "cell_type": "code",
   "execution_count": null,
   "metadata": {},
   "outputs": [],
   "source": [
    "PATH = \"/Users/vietnd/Datasets/ml-1m/\"\n",
    "ratings = pd.read_csv(os.path.join(PATH, 'ratings.dat'), sep='::', names=[\"userID\", \"movieID\", \"rating\", \"timestamp\"], engine='python')\n",
    "movies = pd.read_csv(os.path.join(PATH, 'movies.dat'), sep='::', names=[\"movieID\", \"title\", \"genres\"], engine='python')\n",
    "users = pd.read_csv(os.path.join(PATH, 'users.dat'), sep='::', names=[\"userID\", \"gender\", \"age\", \"occupation\", \"zipcode\"], engine='python')"
   ]
  },
  {
   "cell_type": "code",
   "execution_count": null,
   "metadata": {},
   "outputs": [],
   "source": [
    "users"
   ]
  },
  {
   "cell_type": "markdown",
   "metadata": {},
   "source": [
    "## 2. EDA"
   ]
  },
  {
   "cell_type": "markdown",
   "metadata": {},
   "source": [
    "### 2.1 ratings.dat"
   ]
  },
  {
   "cell_type": "code",
   "execution_count": null,
   "metadata": {},
   "outputs": [],
   "source": [
    "ratings.head()"
   ]
  },
  {
   "cell_type": "code",
   "execution_count": null,
   "metadata": {},
   "outputs": [],
   "source": [
    "sns.distplot(ratings[\"rating\"], kde=False)"
   ]
  },
  {
   "cell_type": "code",
   "execution_count": null,
   "metadata": {},
   "outputs": [],
   "source": [
    "ratings['datetime'] = pd.to_datetime(ratings['timestamp'], unit='s')\n",
    "ratings.drop('timestamp', axis=1, inplace=True)\n",
    "sns.distplot(ratings['datetime'], kde=False)"
   ]
  },
  {
   "cell_type": "code",
   "execution_count": null,
   "metadata": {},
   "outputs": [],
   "source": [
    "num_userId = len(ratings.userID.unique())\n",
    "num_movieId = len(ratings.movieID.unique())\n",
    "print(num_userId)\n",
    "print(num_movieId)\n",
    "print(\"Coverage : {:.4f}%\".format(len(ratings) * 100 / (num_userId * num_movieId)))"
   ]
  },
  {
   "cell_type": "markdown",
   "metadata": {},
   "source": [
    "### 2.2 movies.dat"
   ]
  },
  {
   "cell_type": "code",
   "execution_count": null,
   "metadata": {},
   "outputs": [],
   "source": [
    "movies.head()"
   ]
  },
  {
   "cell_type": "code",
   "execution_count": null,
   "metadata": {},
   "outputs": [],
   "source": [
    "movies_refine = movies.copy()\n",
    "movies_refine['year'] = (movies_refine['title'].str.extract(r'(\\d{4})')).astype('int32')\n",
    "movies_refine = movies_refine.dropna()\n",
    "movies_refine['title'] = (movies_refine['title'].str.extract(r'(^[^\\(]+)'))[0]\n",
    "movies_refine['genres'] = movies_refine['genres'].str.split('|')\n",
    "\n",
    "movies_refine"
   ]
  },
  {
   "cell_type": "code",
   "execution_count": null,
   "metadata": {},
   "outputs": [],
   "source": [
    "movies_refine.year.unique()\n",
    "movies_refine.year.value_counts()"
   ]
  },
  {
   "cell_type": "code",
   "execution_count": null,
   "metadata": {},
   "outputs": [],
   "source": [
    "genre_count = dict()\n",
    "for index, series in movies_refine.iterrows():\n",
    "    for genre in series['genres']:\n",
    "        genre_count[genre] = genre_count.get(genre, 0) + 1\n",
    "pprint(genre_count)"
   ]
  },
  {
   "cell_type": "markdown",
   "metadata": {},
   "source": [
    "### 2.3 users.dat"
   ]
  },
  {
   "cell_type": "code",
   "execution_count": null,
   "metadata": {},
   "outputs": [],
   "source": [
    "users.head()"
   ]
  },
  {
   "cell_type": "code",
   "execution_count": null,
   "metadata": {},
   "outputs": [],
   "source": [
    "users.gender.value_counts()"
   ]
  },
  {
   "cell_type": "code",
   "execution_count": null,
   "metadata": {},
   "outputs": [],
   "source": [
    "users.age.value_counts()"
   ]
  },
  {
   "cell_type": "code",
   "execution_count": null,
   "metadata": {},
   "outputs": [],
   "source": [
    "len(users)"
   ]
  },
  {
   "cell_type": "code",
   "execution_count": null,
   "metadata": {},
   "outputs": [],
   "source": [
    "len(ratings.userID.unique())"
   ]
  },
  {
   "cell_type": "markdown",
   "metadata": {},
   "source": [
    "## 3. Matrix Factorization Collaborative Filtering"
   ]
  },
  {
   "cell_type": "markdown",
   "metadata": {},
   "source": [
    "Giải quyết vấn đề về ma trận thưa\n",
    "- Tính mean của giá trị theo hàng :\n",
    "$E(x) = \\sum_{i=1}^{m} v_i $\n",
    "- Chuẩn hoá : trừ giá trị hàng cho mean của từng hàng\n",
    "\n",
    "- Tính ma trận hiệp phương sai :\n",
    "(công thức)\n",
    "\n",
    "SVD:\n",
    "Tách utility matrix thành 3 ma trận : user - strength, strength - strength, strength - item\n",
    "Ví dụ:\n",
    "$$\\begin{bmatrix}\n",
    " 3 &2 &2 \\\\\n",
    "  2  &3 &-2 \n",
    "\\end{bmatrix}\n",
    "=\n",
    "\\begin{bmatrix}\n",
    " 1/\\sqrt[]{2}  & 1/\\sqrt[]{2} \\\\\n",
    "  1/\\sqrt[]{2}  & -1/\\sqrt[]{2} \n",
    "\\end{bmatrix}\n",
    ".\n",
    "\\begin{bmatrix}\n",
    " 5 &0 &0 \\\\\n",
    " 0 &3 &0 \n",
    "\\end{bmatrix}\n",
    ".\n",
    "\\begin{bmatrix}\n",
    " 1/\\sqrt[]{2}  & 1/\\sqrt[]{2}  &0 \\\\\n",
    "  1/\\sqrt[]{18}  & -1/\\sqrt[]{18} & -1/\\sqrt[]{18} \\\\\n",
    "2/3 & -2/3 & -1/3\n",
    "\\end{bmatrix} $$\n",
    "\n",
    "Giả sử ma trận A(2x3) tương ứng với 2 user - 3 items , value là rating của mỗi user tương ứng với mỗi item:\n",
    "- Ma trận U (2x2) : mỗi cột thể hiện độ \"mạnh\" tương ứng trị riêng của ma trận $\\sum$\n",
    "- Ma trận $\\sum$ (2x3): là ma trận đường chéo với trị riêng giảm dần (Giá trị $\\sigma _{1}$ là giá trị có độ mạnh )\n",
    "- Ma trận V (3x3) : mỗi hàng thể hiện khả năng match giữ mỗi cluster của item và điểm rating của mỗi user"
   ]
  },
  {
   "cell_type": "markdown",
   "metadata": {},
   "source": [
    "### 3.1 Low rank Approximation (Truncated SVD)"
   ]
  },
  {
   "cell_type": "code",
   "execution_count": null,
   "metadata": {},
   "outputs": [],
   "source": [
    "data_mat = np.array(ratings.pivot(index = 'movieID', columns = 'userID', values = 'rating'))\n",
    "data_mat = np.nan_to_num(data_mat)"
   ]
  },
  {
   "cell_type": "code",
   "execution_count": null,
   "metadata": {},
   "outputs": [],
   "source": [
    "nor_data_mat = train - np.mean(train, axis = 0)\n",
    "u, s, vT = svds(nor_data_mat, k = 50)  # 50 eigenvalues"
   ]
  },
  {
   "cell_type": "code",
   "execution_count": null,
   "metadata": {},
   "outputs": [],
   "source": [
    "recon_data_mat = u.dot(np.diag(s)).dot(vT)\n",
    "recon_data_mat"
   ]
  },
  {
   "cell_type": "code",
   "execution_count": null,
   "metadata": {},
   "outputs": [],
   "source": [
    "def recommend_movies(pred_matrix, userID, num_recommendations):\n",
    "    \"\"\"Recommend movies based on reconstructed svd matrix\n",
    "    Params:\n",
    "     - pred_matrix (num_movies, num_users) : reconstructed matrix\n",
    "     - userID (scalar)\n",
    "     - num_recommendations (scalar)\n",
    "    Outputs:\n",
    "     - movies\n",
    "    \"\"\"\n",
    "    sorted_predict_idx = np.argsort(pred_matrix[:, userID-1])[::-1]\n",
    "\n",
    "    user_data = ratings[ratings.userID == (userID)]\n",
    "    user_full = user_data.merge(movies_refine).sort_values(['rating'], ascending=False)\n",
    "    # print(user_full)\n",
    "    print('User {0} has already rated {1} movies.'.format(userID, len(user_full)))\n",
    "    print('Recommending highest {0} predicted ratings movies not already rated.'.format(num_recommendations))\n",
    "\n",
    "    recommendations = movies_refine.iloc[sorted_predict_idx, :][~movies_refine.movieID.isin(user_full.movieID)]\n",
    "\n",
    "    return user_full, recommendations.head(num_recommendations)"
   ]
  },
  {
   "cell_type": "code",
   "execution_count": null,
   "metadata": {},
   "outputs": [],
   "source": [
    "rated, _ = recommend_movies(recon_data_mat, 1310, 20)\n",
    "_"
   ]
  },
  {
   "cell_type": "markdown",
   "metadata": {},
   "source": [
    "### 3.2 FunkSVD"
   ]
  },
  {
   "cell_type": "code",
   "execution_count": null,
   "metadata": {},
   "outputs": [],
   "source": [
    "model_svd = SVD(ratings, K=10, lambd=.1, lr_rate=0.75, max_iter=100, verbose=True, \n",
    "    user_based=1, use_biased=False)"
   ]
  },
  {
   "cell_type": "code",
   "execution_count": null,
   "metadata": {},
   "outputs": [],
   "source": [
    "model_svd.fit()"
   ]
  },
  {
   "cell_type": "markdown",
   "metadata": {},
   "source": [
    "### 3.3 Nonnegative Matrix Factorization"
   ]
  },
  {
   "cell_type": "code",
   "execution_count": null,
   "metadata": {},
   "outputs": [],
   "source": [
    "model_nmf = NMF(ratings, K=15, lambd=.1, lr_rate=0.75, max_iter=100, verbose=True, \n",
    "    user_based=1, use_biased=False)"
   ]
  },
  {
   "cell_type": "code",
   "execution_count": null,
   "metadata": {},
   "outputs": [],
   "source": []
  },
  {
   "cell_type": "markdown",
   "metadata": {},
   "source": [
    "## 4 Deep learning"
   ]
  },
  {
   "cell_type": "code",
   "execution_count": null,
   "metadata": {},
   "outputs": [],
   "source": []
  }
 ],
 "metadata": {
  "kernelspec": {
   "display_name": "Python 3",
   "language": "python",
   "name": "python3"
  },
  "language_info": {
   "codemirror_mode": {
    "name": "ipython",
    "version": 3
   },
   "file_extension": ".py",
   "mimetype": "text/x-python",
   "name": "python",
   "nbconvert_exporter": "python",
   "pygments_lexer": "ipython3",
   "version": "3.7.4"
  }
 },
 "nbformat": 4,
 "nbformat_minor": 4
}
