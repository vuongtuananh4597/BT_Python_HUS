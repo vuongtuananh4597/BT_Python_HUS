{
 "cells": [
  {
   "cell_type": "markdown",
   "metadata": {},
   "source": [
    "# Recommendation System\n",
    "1. Content-based model<br>\n",
    "2. Collaborative filtering model<br>\n",
    "3. Matrix Factorization<br>\n",
    "4. Deep model"
   ]
  },
  {
   "cell_type": "markdown",
   "metadata": {},
   "source": [
    "1. Content-based model\n",
    "- Ma trận user-item được xây dựng dựa theo \"nội dung\" của item mà không quan tâm mối liên hệ giữa các user\n",
    "- item được phân loại theo từng cluster theo từng mục đích (nội dung, tags, ...)\n",
    "- Xây dựng ma trận theo độ tương quan \n",
    "1.1 Utility matrix\n",
    "- Là ma trận với index hàng là user và cột là item (NxM)\n",
    "- Giá trị được sử dụng là điểm rating của từng user với một hay nhiều item. Điều này dẫn đến ma trận xây dựng được là ma trận thưa\n",
    "\n",
    "\n",
    "(bổ sung)"
   ]
  },
  {
   "cell_type": "code",
   "execution_count": 9,
   "metadata": {},
   "outputs": [
    {
     "ename": "ImportError",
     "evalue": "cannot import name 'NeuralMF' from 'model_selection' (/home/vietnd/Documents/movielens-1m/model_selection/__init__.py)",
     "output_type": "error",
     "traceback": [
      "\u001b[0;31m---------------------------------------------------------------------------\u001b[0m",
      "\u001b[0;31mImportError\u001b[0m                               Traceback (most recent call last)",
      "\u001b[0;32m<ipython-input-9-2253c3fc7b77>\u001b[0m in \u001b[0;36m<module>\u001b[0;34m\u001b[0m\n\u001b[1;32m     10\u001b[0m \u001b[0;34m\u001b[0m\u001b[0m\n\u001b[1;32m     11\u001b[0m \u001b[0;32mfrom\u001b[0m \u001b[0mutils\u001b[0m \u001b[0;32mimport\u001b[0m \u001b[0mtrain_test_split\u001b[0m\u001b[0;34m\u001b[0m\u001b[0;34m\u001b[0m\u001b[0m\n\u001b[0;32m---> 12\u001b[0;31m \u001b[0;32mfrom\u001b[0m \u001b[0mmodel_selection\u001b[0m \u001b[0;32mimport\u001b[0m \u001b[0mSVD\u001b[0m\u001b[0;34m,\u001b[0m \u001b[0mfastSVD\u001b[0m\u001b[0;34m,\u001b[0m \u001b[0mNMF\u001b[0m\u001b[0;34m,\u001b[0m \u001b[0mDeepMF\u001b[0m \u001b[0;34m,\u001b[0m \u001b[0mNeuralMF\u001b[0m\u001b[0;34m\u001b[0m\u001b[0;34m\u001b[0m\u001b[0m\n\u001b[0m\u001b[1;32m     13\u001b[0m \u001b[0;34m\u001b[0m\u001b[0m\n\u001b[1;32m     14\u001b[0m \u001b[0msns\u001b[0m\u001b[0;34m.\u001b[0m\u001b[0mset\u001b[0m\u001b[0;34m(\u001b[0m\u001b[0mrc\u001b[0m\u001b[0;34m=\u001b[0m\u001b[0;34m{\u001b[0m\u001b[0;34m'figure.figsize'\u001b[0m\u001b[0;34m:\u001b[0m\u001b[0;34m(\u001b[0m\u001b[0;36m10\u001b[0m\u001b[0;34m,\u001b[0m \u001b[0;36m6\u001b[0m\u001b[0;34m)\u001b[0m\u001b[0;34m}\u001b[0m\u001b[0;34m)\u001b[0m\u001b[0;34m\u001b[0m\u001b[0;34m\u001b[0m\u001b[0m\n",
      "\u001b[0;31mImportError\u001b[0m: cannot import name 'NeuralMF' from 'model_selection' (/home/vietnd/Documents/movielens-1m/model_selection/__init__.py)"
     ]
    }
   ],
   "source": [
    "import os\n",
    "from pprint import pprint\n",
    "import pandas as pd\n",
    "import numpy as np\n",
    "import matplotlib.pyplot as plt\n",
    "import seaborn as sns\n",
    "from scipy.sparse.linalg import svds\n",
    "from tensorflow.keras import optimizers, losses, metrics\n",
    "from tensorflow.keras.callbacks import Callback, EarlyStopping, ModelCheckpoint\n",
    "\n",
    "from utils import train_test_split\n",
    "from model_selection import SVD, fastSVD, NMF, DeepMF , NeuralMF\n",
    "\n",
    "sns.set(rc={'figure.figsize':(10, 6)})"
   ]
  },
  {
   "cell_type": "code",
   "execution_count": 10,
   "metadata": {},
   "outputs": [],
   "source": [
    "sns.set(rc={'figure.figsize':(10, 6)})\n",
    "seed = 123\n",
    "np.random.seed(seed)"
   ]
  },
  {
   "cell_type": "markdown",
   "metadata": {},
   "source": [
    "## 1. Load data\n",
    "\n",
    "### Summary\n",
    "\n",
    "```\n",
    "ml-1m\n",
    "├── users.dat\n",
    "├── movies.dat\n",
    "├── ratings.dat\n",
    "└── README.txt\n",
    "```"
   ]
  },
  {
   "cell_type": "code",
   "execution_count": 3,
   "metadata": {},
   "outputs": [],
   "source": [
    "PATH = \"ml-1m/\"\n",
    "ratings = pd.read_csv(os.path.join(PATH, 'ratings.dat'), sep='::', names=[\"userID\", \"movieID\", \"rating\", \"timestamp\"], engine='python')\n",
    "movies = pd.read_csv(os.path.join(PATH, 'movies.dat'), sep='::', names=[\"movieID\", \"title\", \"genres\"], engine='python')\n",
    "users = pd.read_csv(os.path.join(PATH, 'users.dat'), sep='::', names=[\"userID\", \"gender\", \"age\", \"occupation\", \"zipcode\"], engine='python')"
   ]
  },
  {
   "cell_type": "code",
   "execution_count": null,
   "metadata": {},
   "outputs": [],
   "source": [
    "users"
   ]
  },
  {
   "cell_type": "markdown",
   "metadata": {},
   "source": [
    "## 2. EDA"
   ]
  },
  {
   "cell_type": "markdown",
   "metadata": {},
   "source": [
    "### 2.1 ratings.dat"
   ]
  },
  {
   "cell_type": "code",
   "execution_count": null,
   "metadata": {},
   "outputs": [],
   "source": [
    "ratings.head()"
   ]
  },
  {
   "cell_type": "code",
   "execution_count": null,
   "metadata": {},
   "outputs": [],
   "source": [
    "sns.distplot(ratings[\"rating\"], kde=False)"
   ]
  },
  {
   "cell_type": "code",
   "execution_count": null,
   "metadata": {},
   "outputs": [],
   "source": [
    "ratings['datetime'] = pd.to_datetime(ratings['timestamp'], unit='s')\n",
    "ratings.drop('timestamp', axis=1, inplace=True)\n",
    "sns.distplot(ratings['datetime'], kde=False)"
   ]
  },
  {
   "cell_type": "code",
   "execution_count": null,
   "metadata": {},
   "outputs": [],
   "source": [
    "n_users = len(ratings.userID.unique())\n",
    "n_items = len(ratings.movieID.unique())\n",
    "print(n_users)\n",
    "print(n_items)\n",
    "print(\"Coverage : {:.4f}%\".format(len(ratings) * 100 / (n_users * n_items)))"
   ]
  },
  {
   "cell_type": "markdown",
   "metadata": {},
   "source": [
    "### 2.2 movies.dat"
   ]
  },
  {
   "cell_type": "code",
   "execution_count": null,
   "metadata": {},
   "outputs": [],
   "source": [
    "movies.head()"
   ]
  },
  {
   "cell_type": "code",
   "execution_count": null,
   "metadata": {},
   "outputs": [],
   "source": [
    "movies_refine = movies.copy()\n",
    "movies_refine['year'] = (movies_refine['title'].str.extract(r'(\\d{4})')).astype('int32')\n",
    "movies_refine = movies_refine.dropna()\n",
    "movies_refine['title'] = (movies_refine['title'].str.extract(r'(^[^\\(]+)'))[0]\n",
    "movies_refine['genres'] = movies_refine['genres'].str.split('|')\n",
    "\n",
    "movies_refine"
   ]
  },
  {
   "cell_type": "code",
   "execution_count": null,
   "metadata": {},
   "outputs": [],
   "source": [
    "movies_refine.year.unique()\n",
    "movies_refine.year.value_counts()"
   ]
  },
  {
   "cell_type": "code",
   "execution_count": null,
   "metadata": {},
   "outputs": [],
   "source": [
    "genre_count = dict()\n",
    "for index, series in movies_refine.iterrows():\n",
    "    for genre in series['genres']:\n",
    "        genre_count[genre] = genre_count.get(genre, 0) + 1\n",
    "pprint(genre_count)"
   ]
  },
  {
   "cell_type": "markdown",
   "metadata": {},
   "source": [
    "### 2.3 users.dat"
   ]
  },
  {
   "cell_type": "code",
   "execution_count": null,
   "metadata": {},
   "outputs": [],
   "source": [
    "users.head()"
   ]
  },
  {
   "cell_type": "code",
   "execution_count": null,
   "metadata": {},
   "outputs": [],
   "source": [
    "users.gender.value_counts()"
   ]
  },
  {
   "cell_type": "code",
   "execution_count": null,
   "metadata": {},
   "outputs": [],
   "source": [
    "users.age.value_counts()"
   ]
  },
  {
   "cell_type": "code",
   "execution_count": null,
   "metadata": {},
   "outputs": [],
   "source": [
    "len(users)"
   ]
  },
  {
   "cell_type": "code",
   "execution_count": null,
   "metadata": {},
   "outputs": [],
   "source": [
    "len(ratings.userID.unique())"
   ]
  },
  {
   "cell_type": "markdown",
   "metadata": {},
   "source": [
    "## 3. Matrix Factorization Collaborative Filtering"
   ]
  },
  {
   "cell_type": "markdown",
   "metadata": {},
   "source": [
    "Giải quyết vấn đề về ma trận thưa\n",
    "- Tính mean của giá trị theo hàng :\n",
    "$E(x) = \\sum_{i=1}^{m} v_i $\n",
    "- Chuẩn hoá : trừ giá trị hàng cho mean của từng hàng\n",
    "\n",
    "- Tính ma trận hiệp phương sai :\n",
    "(công thức)\n",
    "\n",
    "SVD:\n",
    "Tách utility matrix thành 3 ma trận : user - strength, strength - strength, strength - item\n",
    "Ví dụ:\n",
    "$$\\begin{bmatrix}\n",
    " 3 &2 &2 \\\\\n",
    "  2  &3 &-2 \n",
    "\\end{bmatrix}\n",
    "=\n",
    "\\begin{bmatrix}\n",
    " 1/\\sqrt[]{2}  & 1/\\sqrt[]{2} \\\\\n",
    "  1/\\sqrt[]{2}  & -1/\\sqrt[]{2} \n",
    "\\end{bmatrix}\n",
    ".\n",
    "\\begin{bmatrix}\n",
    " 5 &0 &0 \\\\\n",
    " 0 &3 &0 \n",
    "\\end{bmatrix}\n",
    ".\n",
    "\\begin{bmatrix}\n",
    " 1/\\sqrt[]{2}  & 1/\\sqrt[]{2}  &0 \\\\\n",
    "  1/\\sqrt[]{18}  & -1/\\sqrt[]{18} & -1/\\sqrt[]{18} \\\\\n",
    "2/3 & -2/3 & -1/3\n",
    "\\end{bmatrix} $$\n",
    "\n",
    "Giả sử ma trận A(2x3) tương ứng với 2 user - 3 items , value là rating của mỗi user tương ứng với mỗi item:\n",
    "- Ma trận U (2x2) : mỗi cột thể hiện độ \"mạnh\" tương ứng trị riêng của ma trận $\\sum$\n",
    "- Ma trận $\\sum$ (2x3): là ma trận đường chéo với trị riêng giảm dần (Giá trị $\\sigma _{1}$ là giá trị có độ mạnh )\n",
    "- Ma trận V (3x3) : mỗi hàng thể hiện khả năng match giữ mỗi cluster của item và điểm rating của mỗi user"
   ]
  },
  {
   "cell_type": "markdown",
   "metadata": {},
   "source": [
    "### 3.1 Low rank Approximation (Truncated SVD)"
   ]
  },
  {
   "cell_type": "code",
   "execution_count": null,
   "metadata": {},
   "outputs": [],
   "source": [
    "data_mat = np.array(ratings.pivot(index = 'movieID', columns = 'userID', values = 'rating'))\n",
    "data_mat = np.nan_to_num(data_mat)"
   ]
  },
  {
   "cell_type": "code",
   "execution_count": null,
   "metadata": {},
   "outputs": [],
   "source": [
    "nor_data_mat = train - np.mean(train, axis = 0)\n",
    "u, s, vT = svds(nor_data_mat, k = 50)  # 50 eigenvalues"
   ]
  },
  {
   "cell_type": "code",
   "execution_count": null,
   "metadata": {},
   "outputs": [],
   "source": [
    "recon_data_mat = u.dot(np.diag(s)).dot(vT)\n",
    "recon_data_mat"
   ]
  },
  {
   "cell_type": "code",
   "execution_count": null,
   "metadata": {},
   "outputs": [],
   "source": [
    "def recommend_movies(pred_matrix, userID, num_recommendations):\n",
    "    \"\"\"Recommend movies based on reconstructed svd matrix\n",
    "    Params:\n",
    "     - pred_matrix (num_movies, num_users) : reconstructed matrix\n",
    "     - userID (scalar)\n",
    "     - num_recommendations (scalar)\n",
    "    Outputs:\n",
    "     - movies\n",
    "    \"\"\"\n",
    "    sorted_predict_idx = np.argsort(pred_matrix[:, userID-1])[::-1]\n",
    "\n",
    "    user_data = ratings[ratings.userID == (userID)]\n",
    "    user_full = user_data.merge(movies_refine).sort_values(['rating'], ascending=False)\n",
    "    # print(user_full)\n",
    "    print('User {0} has already rated {1} movies.'.format(userID, len(user_full)))\n",
    "    print('Recommending highest {0} predicted ratings movies not already rated.'.format(num_recommendations))\n",
    "\n",
    "    recommendations = movies_refine.iloc[sorted_predict_idx, :][~movies_refine.movieID.isin(user_full.movieID)]\n",
    "\n",
    "    return user_full, recommendations.head(num_recommendations)"
   ]
  },
  {
   "cell_type": "code",
   "execution_count": null,
   "metadata": {},
   "outputs": [],
   "source": [
    "rated, _ = recommend_movies(recon_data_mat, 1310, 20)\n",
    "_"
   ]
  },
  {
   "cell_type": "markdown",
   "metadata": {},
   "source": [
    "### 3.2.1 FunkSVD (slow ver.)"
   ]
  },
  {
   "cell_type": "code",
   "execution_count": null,
   "metadata": {},
   "outputs": [],
   "source": [
    "model_svd = SVD(ratings, K=10, lambd=.1, lr_rate=0.75, max_iter=100, verbose=True, user_based=1, use_biased=False)"
   ]
  },
  {
   "cell_type": "markdown",
   "metadata": {},
   "source": [
    "### 3.2.2 FunkSVD (fast ver.)"
   ]
  },
  {
   "cell_type": "code",
   "execution_count": null,
   "metadata": {},
   "outputs": [],
   "source": [
    "X_train, X_valid, X_test = train_test_split(ratings, split_ratio=0.7, shuffle=True)"
   ]
  },
  {
   "cell_type": "code",
   "execution_count": null,
   "metadata": {},
   "outputs": [],
   "source": [
    "model_svd = fastSVD(K=15, lambd=0.06, lr_rate=0.004, max_iter=50)\n",
    "model_svd.fit(X_train, X_valid, early_stopping=True, verbose=False, use_biased=True)"
   ]
  },
  {
   "cell_type": "code",
   "execution_count": null,
   "metadata": {},
   "outputs": [],
   "source": [
    "model_svd.predict(X_test)"
   ]
  },
  {
   "cell_type": "markdown",
   "metadata": {},
   "source": [
    "### 3.3 Nonnegative Matrix Factorization"
   ]
  },
  {
   "cell_type": "code",
   "execution_count": null,
   "metadata": {},
   "outputs": [],
   "source": [
    "model_nmf = NMF(K=15, lambd_pu=0.4, lambd_qi=0.7, max_iter=10)"
   ]
  },
  {
   "cell_type": "code",
   "execution_count": null,
   "metadata": {},
   "outputs": [],
   "source": [
    "model_nmf.fit(X_train, X_valid, early_stopping=False, verbose=True)"
   ]
  },
  {
   "cell_type": "markdown",
   "metadata": {},
   "source": [
    "## 4 Deep learning"
   ]
  },
  {
   "cell_type": "markdown",
   "metadata": {},
   "source": [
    "### 4.1 Simple deep model"
   ]
  },
  {
   "cell_type": "markdown",
   "metadata": {},
   "source": [
    "**Prepare data for DeepCF model**"
   ]
  },
  {
   "cell_type": "code",
   "execution_count": 6,
   "metadata": {},
   "outputs": [],
   "source": [
    "ratings = ratings.sample(frac=1., random_state=seed)\n",
    "user_list = ratings['userID'].values.reshape(-1, 1) - 1\n",
    "item_list = ratings['movieID'].values.reshape(-1, 1) - 1\n",
    "rating_list = ratings['rating'].values.reshape(-1, 1)\n",
    "max_user_id = ratings.userID.unique().max()\n",
    "max_item_id = ratings.movieID.unique().max()"
   ]
  },
  {
   "cell_type": "markdown",
   "metadata": {},
   "source": [
    "**Create and compile model**"
   ]
  },
  {
   "cell_type": "code",
   "execution_count": null,
   "metadata": {},
   "outputs": [],
   "source": [
    "model_deepmf = DeepMF(max_user_id, max_item_id, K=100)"
   ]
  },
  {
   "cell_type": "code",
   "execution_count": null,
   "metadata": {},
   "outputs": [],
   "source": [
    "callbacks = [EarlyStopping('val_loss', patience=2), \n",
    "             ModelCheckpoint('weights.h5', save_best_only=True)]\n",
    "model_deepmf.compile(loss='mse', optimizer='adam')"
   ]
  },
  {
   "cell_type": "code",
   "execution_count": null,
   "metadata": {},
   "outputs": [],
   "source": [
    "history = model_deepmf.fit([user_list, item_list], rating_list, epochs=30,\n",
    "                           validation_split=.3, verbose=2, callbacks=callbacks)"
   ]
  },
  {
   "cell_type": "markdown",
   "metadata": {},
   "source": [
    "**Load trained model for prediction phase**"
   ]
  },
  {
   "cell_type": "code",
   "execution_count": 9,
   "metadata": {},
   "outputs": [],
   "source": [
    "model_deepmf.load_weights('weights.h5')"
   ]
  },
  {
   "cell_type": "markdown",
   "metadata": {},
   "source": [
    "**Predict rating score given userID and itemID**"
   ]
  },
  {
   "cell_type": "code",
   "execution_count": 7,
   "metadata": {},
   "outputs": [
    {
     "data": {
      "text/html": [
       "<div>\n",
       "<style scoped>\n",
       "    .dataframe tbody tr th:only-of-type {\n",
       "        vertical-align: middle;\n",
       "    }\n",
       "\n",
       "    .dataframe tbody tr th {\n",
       "        vertical-align: top;\n",
       "    }\n",
       "\n",
       "    .dataframe thead th {\n",
       "        text-align: right;\n",
       "    }\n",
       "</style>\n",
       "<table border=\"1\" class=\"dataframe\">\n",
       "  <thead>\n",
       "    <tr style=\"text-align: right;\">\n",
       "      <th></th>\n",
       "      <th>userID</th>\n",
       "      <th>movieID</th>\n",
       "      <th>rating</th>\n",
       "      <th>pred_rating</th>\n",
       "      <th>title</th>\n",
       "      <th>genres</th>\n",
       "    </tr>\n",
       "  </thead>\n",
       "  <tbody>\n",
       "    <tr>\n",
       "      <th>0</th>\n",
       "      <td>69</td>\n",
       "      <td>296</td>\n",
       "      <td>5</td>\n",
       "      <td>4.220314</td>\n",
       "      <td>Pulp Fiction (1994)</td>\n",
       "      <td>Crime|Drama</td>\n",
       "    </tr>\n",
       "    <tr>\n",
       "      <th>1</th>\n",
       "      <td>69</td>\n",
       "      <td>1120</td>\n",
       "      <td>5</td>\n",
       "      <td>3.404435</td>\n",
       "      <td>People vs. Larry Flynt, The (1996)</td>\n",
       "      <td>Drama</td>\n",
       "    </tr>\n",
       "    <tr>\n",
       "      <th>2</th>\n",
       "      <td>69</td>\n",
       "      <td>1041</td>\n",
       "      <td>5</td>\n",
       "      <td>3.478866</td>\n",
       "      <td>Secrets &amp; Lies (1996)</td>\n",
       "      <td>Drama</td>\n",
       "    </tr>\n",
       "    <tr>\n",
       "      <th>3</th>\n",
       "      <td>69</td>\n",
       "      <td>17</td>\n",
       "      <td>5</td>\n",
       "      <td>3.519573</td>\n",
       "      <td>Sense and Sensibility (1995)</td>\n",
       "      <td>Drama|Romance</td>\n",
       "    </tr>\n",
       "    <tr>\n",
       "      <th>4</th>\n",
       "      <td>69</td>\n",
       "      <td>1704</td>\n",
       "      <td>5</td>\n",
       "      <td>4.000617</td>\n",
       "      <td>Good Will Hunting (1997)</td>\n",
       "      <td>Drama</td>\n",
       "    </tr>\n",
       "    <tr>\n",
       "      <th>5</th>\n",
       "      <td>69</td>\n",
       "      <td>2858</td>\n",
       "      <td>5</td>\n",
       "      <td>3.948442</td>\n",
       "      <td>American Beauty (1999)</td>\n",
       "      <td>Comedy|Drama</td>\n",
       "    </tr>\n",
       "    <tr>\n",
       "      <th>6</th>\n",
       "      <td>69</td>\n",
       "      <td>1747</td>\n",
       "      <td>5</td>\n",
       "      <td>3.698985</td>\n",
       "      <td>Wag the Dog (1997)</td>\n",
       "      <td>Comedy|Drama</td>\n",
       "    </tr>\n",
       "    <tr>\n",
       "      <th>7</th>\n",
       "      <td>69</td>\n",
       "      <td>1810</td>\n",
       "      <td>5</td>\n",
       "      <td>3.477646</td>\n",
       "      <td>Primary Colors (1998)</td>\n",
       "      <td>Drama</td>\n",
       "    </tr>\n",
       "    <tr>\n",
       "      <th>8</th>\n",
       "      <td>69</td>\n",
       "      <td>2890</td>\n",
       "      <td>5</td>\n",
       "      <td>4.122479</td>\n",
       "      <td>Three Kings (1999)</td>\n",
       "      <td>Drama|War</td>\n",
       "    </tr>\n",
       "    <tr>\n",
       "      <th>9</th>\n",
       "      <td>69</td>\n",
       "      <td>431</td>\n",
       "      <td>5</td>\n",
       "      <td>3.340197</td>\n",
       "      <td>Carlito's Way (1993)</td>\n",
       "      <td>Crime|Drama</td>\n",
       "    </tr>\n",
       "  </tbody>\n",
       "</table>\n",
       "</div>"
      ],
      "text/plain": [
       "   userID  movieID  rating  pred_rating                               title  \\\n",
       "0      69      296       5     4.220314                 Pulp Fiction (1994)   \n",
       "1      69     1120       5     3.404435  People vs. Larry Flynt, The (1996)   \n",
       "2      69     1041       5     3.478866               Secrets & Lies (1996)   \n",
       "3      69       17       5     3.519573        Sense and Sensibility (1995)   \n",
       "4      69     1704       5     4.000617            Good Will Hunting (1997)   \n",
       "5      69     2858       5     3.948442              American Beauty (1999)   \n",
       "6      69     1747       5     3.698985                  Wag the Dog (1997)   \n",
       "7      69     1810       5     3.477646               Primary Colors (1998)   \n",
       "8      69     2890       5     4.122479                  Three Kings (1999)   \n",
       "9      69      431       5     3.340197                Carlito's Way (1993)   \n",
       "\n",
       "          genres  \n",
       "0    Crime|Drama  \n",
       "1          Drama  \n",
       "2          Drama  \n",
       "3  Drama|Romance  \n",
       "4          Drama  \n",
       "5   Comedy|Drama  \n",
       "6   Comedy|Drama  \n",
       "7          Drama  \n",
       "8      Drama|War  \n",
       "9    Crime|Drama  "
      ]
     },
     "execution_count": 7,
     "metadata": {},
     "output_type": "execute_result"
    }
   ],
   "source": [
    "test_id = 69\n",
    "\n",
    "user_ratings = ratings[ratings.userID == test_id][['userID', 'movieID', 'rating']]\n",
    "user_ratings['pred_rating'] = user_ratings.apply(lambda x: model_deepmf.pred(test_id, x['movieID']), axis=1)\n",
    "user_ratings.sort_values(by='rating', ascending=False).merge(movies).head(10)"
   ]
  },
  {
   "cell_type": "markdown",
   "metadata": {},
   "source": [
    "**Recommend 10 movies given userID**"
   ]
  },
  {
   "cell_type": "code",
   "execution_count": 30,
   "metadata": {},
   "outputs": [
    {
     "name": "stderr",
     "output_type": "stream",
     "text": [
      "/home/vietnd/miniconda3/envs/py37/lib/python3.7/site-packages/ipykernel_launcher.py:4: SettingWithCopyWarning: \n",
      "A value is trying to be set on a copy of a slice from a DataFrame.\n",
      "Try using .loc[row_indexer,col_indexer] = value instead\n",
      "\n",
      "See the caveats in the documentation: https://pandas.pydata.org/pandas-docs/stable/user_guide/indexing.html#returning-a-view-versus-a-copy\n",
      "  after removing the cwd from sys.path.\n"
     ]
    },
    {
     "data": {
      "text/html": [
       "<div>\n",
       "<style scoped>\n",
       "    .dataframe tbody tr th:only-of-type {\n",
       "        vertical-align: middle;\n",
       "    }\n",
       "\n",
       "    .dataframe tbody tr th {\n",
       "        vertical-align: top;\n",
       "    }\n",
       "\n",
       "    .dataframe thead th {\n",
       "        text-align: right;\n",
       "    }\n",
       "</style>\n",
       "<table border=\"1\" class=\"dataframe\">\n",
       "  <thead>\n",
       "    <tr style=\"text-align: right;\">\n",
       "      <th></th>\n",
       "      <th>movieID</th>\n",
       "      <th>title</th>\n",
       "      <th>genres</th>\n",
       "      <th>pred_rating</th>\n",
       "    </tr>\n",
       "  </thead>\n",
       "  <tbody>\n",
       "    <tr>\n",
       "      <th>2425</th>\n",
       "      <td>2494</td>\n",
       "      <td>Last Days, The (1998)</td>\n",
       "      <td>Documentary</td>\n",
       "      <td>4.190029</td>\n",
       "    </tr>\n",
       "    <tr>\n",
       "      <th>1287</th>\n",
       "      <td>1307</td>\n",
       "      <td>When Harry Met Sally... (1989)</td>\n",
       "      <td>Comedy|Romance</td>\n",
       "      <td>4.110030</td>\n",
       "    </tr>\n",
       "    <tr>\n",
       "      <th>1676</th>\n",
       "      <td>1725</td>\n",
       "      <td>Education of Little Tree, The (1997)</td>\n",
       "      <td>Drama</td>\n",
       "      <td>4.103101</td>\n",
       "    </tr>\n",
       "    <tr>\n",
       "      <th>2707</th>\n",
       "      <td>2776</td>\n",
       "      <td>Marcello Mastroianni: I Remember Yes, I Rememb...</td>\n",
       "      <td>Documentary</td>\n",
       "      <td>4.062382</td>\n",
       "    </tr>\n",
       "    <tr>\n",
       "      <th>2849</th>\n",
       "      <td>2918</td>\n",
       "      <td>Ferris Bueller's Day Off (1986)</td>\n",
       "      <td>Comedy</td>\n",
       "      <td>4.047093</td>\n",
       "    </tr>\n",
       "    <tr>\n",
       "      <th>1180</th>\n",
       "      <td>1198</td>\n",
       "      <td>Raiders of the Lost Ark (1981)</td>\n",
       "      <td>Action|Adventure</td>\n",
       "      <td>4.035900</td>\n",
       "    </tr>\n",
       "    <tr>\n",
       "      <th>1656</th>\n",
       "      <td>1704</td>\n",
       "      <td>Good Will Hunting (1997)</td>\n",
       "      <td>Drama</td>\n",
       "      <td>4.029357</td>\n",
       "    </tr>\n",
       "    <tr>\n",
       "      <th>1873</th>\n",
       "      <td>1942</td>\n",
       "      <td>All the King's Men (1949)</td>\n",
       "      <td>Drama</td>\n",
       "      <td>4.015693</td>\n",
       "    </tr>\n",
       "    <tr>\n",
       "      <th>1156</th>\n",
       "      <td>1172</td>\n",
       "      <td>Cinema Paradiso (1988)</td>\n",
       "      <td>Comedy|Drama|Romance</td>\n",
       "      <td>4.015368</td>\n",
       "    </tr>\n",
       "    <tr>\n",
       "      <th>3023</th>\n",
       "      <td>3092</td>\n",
       "      <td>Chushingura (1962)</td>\n",
       "      <td>Drama</td>\n",
       "      <td>4.000569</td>\n",
       "    </tr>\n",
       "  </tbody>\n",
       "</table>\n",
       "</div>"
      ],
      "text/plain": [
       "      movieID                                              title  \\\n",
       "2425     2494                              Last Days, The (1998)   \n",
       "1287     1307                     When Harry Met Sally... (1989)   \n",
       "1676     1725               Education of Little Tree, The (1997)   \n",
       "2707     2776  Marcello Mastroianni: I Remember Yes, I Rememb...   \n",
       "2849     2918                    Ferris Bueller's Day Off (1986)   \n",
       "1180     1198                     Raiders of the Lost Ark (1981)   \n",
       "1656     1704                           Good Will Hunting (1997)   \n",
       "1873     1942                          All the King's Men (1949)   \n",
       "1156     1172                             Cinema Paradiso (1988)   \n",
       "3023     3092                                 Chushingura (1962)   \n",
       "\n",
       "                    genres  pred_rating  \n",
       "2425           Documentary     4.190029  \n",
       "1287        Comedy|Romance     4.110030  \n",
       "1676                 Drama     4.103101  \n",
       "2707           Documentary     4.062382  \n",
       "2849                Comedy     4.047093  \n",
       "1180      Action|Adventure     4.035900  \n",
       "1656                 Drama     4.029357  \n",
       "1873                 Drama     4.015693  \n",
       "1156  Comedy|Drama|Romance     4.015368  \n",
       "3023                 Drama     4.000569  "
      ]
     },
     "execution_count": 30,
     "metadata": {},
     "output_type": "execute_result"
    }
   ],
   "source": [
    "test_id = 96\n",
    "\n",
    "rated_movie = ratings.loc[ratings.userID == test_id]['movieID']\n",
    "recom = movies.loc[~movies.movieID.isin(rated_movie)]\n",
    "recom['pred_rating'] = recom.apply(lambda x: model_deepmf.pred(test_id, x['movieID']), axis=1)\n",
    "recom.sort_values(by='pred_rating', ascending=False).head(10)"
   ]
  },
  {
   "cell_type": "markdown",
   "metadata": {},
   "source": [
    "### 4.2 Neural Collaborative Filtering"
   ]
  },
  {
   "cell_type": "code",
   "execution_count": 4,
   "metadata": {},
   "outputs": [],
   "source": [
    "from model_selection import Embedding, MLP"
   ]
  },
  {
   "cell_type": "code",
   "execution_count": null,
   "metadata": {},
   "outputs": [],
   "source": []
  }
 ],
 "metadata": {
  "kernelspec": {
   "display_name": "Python 3",
   "language": "python",
   "name": "python3"
  },
  "language_info": {
   "codemirror_mode": {
    "name": "ipython",
    "version": 3
   },
   "file_extension": ".py",
   "mimetype": "text/x-python",
   "name": "python",
   "nbconvert_exporter": "python",
   "pygments_lexer": "ipython3",
   "version": "3.7.7"
  }
 },
 "nbformat": 4,
 "nbformat_minor": 4
}
