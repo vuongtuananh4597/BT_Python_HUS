{
 "cells": [
  {
   "cell_type": "markdown",
   "metadata": {},
   "source": [
    "## Import some library"
   ]
  },
  {
   "cell_type": "code",
   "execution_count": 86,
   "metadata": {},
   "outputs": [],
   "source": [
    "import os\n",
    "import time\n",
    "from tqdm.notebook import tqdm\n",
    "from pprint import pprint\n",
    "import recmetrics\n",
    "import pandas as pd\n",
    "import numpy as np\n",
    "import matplotlib.pyplot as plt\n",
    "import seaborn as sns\n",
    "from scipy.sparse.linalg import svds\n",
    "from sklearn.metrics import mean_absolute_error\n",
    "from tensorflow.keras import optimizers, losses, metrics\n",
    "from tensorflow.keras.callbacks import Callback, EarlyStopping, ModelCheckpoint\n",
    "from tensorflow.keras.utils import plot_model\n",
    "from surprise import NMF as nmf\n",
    "from surprise import Dataset, Reader, accuracy\n",
    "from surprise.model_selection import train_test_split as split\n",
    "\n",
    "from utils import train_test_split\n",
    "from model_selection import SVD, fastSVD, NMF, DeepMF , NeuralMF"
   ]
  },
  {
   "cell_type": "code",
   "execution_count": 2,
   "metadata": {},
   "outputs": [],
   "source": [
    "import sys\n",
    "import warnings\n",
    "\n",
    "if not sys.warnoptions:\n",
    "    warnings.simplefilter(\"ignore\")"
   ]
  },
  {
   "cell_type": "code",
   "execution_count": 3,
   "metadata": {},
   "outputs": [],
   "source": [
    "sns.set(rc={'figure.figsize':(10, 6)})\n",
    "seed = 123\n",
    "np.random.seed(seed)"
   ]
  },
  {
   "cell_type": "markdown",
   "metadata": {},
   "source": [
    "## 1. Load data\n",
    "\n",
    "### Summary\n",
    "\n",
    "```\n",
    "ml-1m\n",
    "├── users.dat\n",
    "├── movies.dat\n",
    "├── ratings.dat\n",
    "└── README.txt\n",
    "```"
   ]
  },
  {
   "cell_type": "code",
   "execution_count": 4,
   "metadata": {},
   "outputs": [],
   "source": [
    "PATH = \"ml-1m/\"\n",
    "ratings = pd.read_csv(os.path.join(PATH, 'ratings.dat'), sep='::', names=[\"userID\", \"movieID\", \"rating\", \"timestamp\"], engine='python')\n",
    "movies = pd.read_csv(os.path.join(PATH, 'movies.dat'), sep='::', names=[\"movieID\", \"title\", \"genres\"], engine='python')\n",
    "users = pd.read_csv(os.path.join(PATH, 'users.dat'), sep='::', names=[\"userID\", \"gender\", \"age\", \"occupation\", \"zipcode\"], engine='python')"
   ]
  },
  {
   "cell_type": "code",
   "execution_count": 5,
   "metadata": {},
   "outputs": [
    {
     "data": {
      "text/html": [
       "<div>\n",
       "<style scoped>\n",
       "    .dataframe tbody tr th:only-of-type {\n",
       "        vertical-align: middle;\n",
       "    }\n",
       "\n",
       "    .dataframe tbody tr th {\n",
       "        vertical-align: top;\n",
       "    }\n",
       "\n",
       "    .dataframe thead th {\n",
       "        text-align: right;\n",
       "    }\n",
       "</style>\n",
       "<table border=\"1\" class=\"dataframe\">\n",
       "  <thead>\n",
       "    <tr style=\"text-align: right;\">\n",
       "      <th></th>\n",
       "      <th>userID</th>\n",
       "      <th>gender</th>\n",
       "      <th>age</th>\n",
       "      <th>occupation</th>\n",
       "      <th>zipcode</th>\n",
       "    </tr>\n",
       "  </thead>\n",
       "  <tbody>\n",
       "    <tr>\n",
       "      <th>0</th>\n",
       "      <td>1</td>\n",
       "      <td>F</td>\n",
       "      <td>1</td>\n",
       "      <td>10</td>\n",
       "      <td>48067</td>\n",
       "    </tr>\n",
       "    <tr>\n",
       "      <th>1</th>\n",
       "      <td>2</td>\n",
       "      <td>M</td>\n",
       "      <td>56</td>\n",
       "      <td>16</td>\n",
       "      <td>70072</td>\n",
       "    </tr>\n",
       "    <tr>\n",
       "      <th>2</th>\n",
       "      <td>3</td>\n",
       "      <td>M</td>\n",
       "      <td>25</td>\n",
       "      <td>15</td>\n",
       "      <td>55117</td>\n",
       "    </tr>\n",
       "    <tr>\n",
       "      <th>3</th>\n",
       "      <td>4</td>\n",
       "      <td>M</td>\n",
       "      <td>45</td>\n",
       "      <td>7</td>\n",
       "      <td>02460</td>\n",
       "    </tr>\n",
       "    <tr>\n",
       "      <th>4</th>\n",
       "      <td>5</td>\n",
       "      <td>M</td>\n",
       "      <td>25</td>\n",
       "      <td>20</td>\n",
       "      <td>55455</td>\n",
       "    </tr>\n",
       "    <tr>\n",
       "      <th>...</th>\n",
       "      <td>...</td>\n",
       "      <td>...</td>\n",
       "      <td>...</td>\n",
       "      <td>...</td>\n",
       "      <td>...</td>\n",
       "    </tr>\n",
       "    <tr>\n",
       "      <th>6035</th>\n",
       "      <td>6036</td>\n",
       "      <td>F</td>\n",
       "      <td>25</td>\n",
       "      <td>15</td>\n",
       "      <td>32603</td>\n",
       "    </tr>\n",
       "    <tr>\n",
       "      <th>6036</th>\n",
       "      <td>6037</td>\n",
       "      <td>F</td>\n",
       "      <td>45</td>\n",
       "      <td>1</td>\n",
       "      <td>76006</td>\n",
       "    </tr>\n",
       "    <tr>\n",
       "      <th>6037</th>\n",
       "      <td>6038</td>\n",
       "      <td>F</td>\n",
       "      <td>56</td>\n",
       "      <td>1</td>\n",
       "      <td>14706</td>\n",
       "    </tr>\n",
       "    <tr>\n",
       "      <th>6038</th>\n",
       "      <td>6039</td>\n",
       "      <td>F</td>\n",
       "      <td>45</td>\n",
       "      <td>0</td>\n",
       "      <td>01060</td>\n",
       "    </tr>\n",
       "    <tr>\n",
       "      <th>6039</th>\n",
       "      <td>6040</td>\n",
       "      <td>M</td>\n",
       "      <td>25</td>\n",
       "      <td>6</td>\n",
       "      <td>11106</td>\n",
       "    </tr>\n",
       "  </tbody>\n",
       "</table>\n",
       "<p>6040 rows × 5 columns</p>\n",
       "</div>"
      ],
      "text/plain": [
       "      userID gender  age  occupation zipcode\n",
       "0          1      F    1          10   48067\n",
       "1          2      M   56          16   70072\n",
       "2          3      M   25          15   55117\n",
       "3          4      M   45           7   02460\n",
       "4          5      M   25          20   55455\n",
       "...      ...    ...  ...         ...     ...\n",
       "6035    6036      F   25          15   32603\n",
       "6036    6037      F   45           1   76006\n",
       "6037    6038      F   56           1   14706\n",
       "6038    6039      F   45           0   01060\n",
       "6039    6040      M   25           6   11106\n",
       "\n",
       "[6040 rows x 5 columns]"
      ]
     },
     "execution_count": 5,
     "metadata": {},
     "output_type": "execute_result"
    }
   ],
   "source": [
    "users"
   ]
  },
  {
   "cell_type": "markdown",
   "metadata": {},
   "source": [
    "## 2. EDA"
   ]
  },
  {
   "cell_type": "markdown",
   "metadata": {},
   "source": [
    "### 2.1 ratings.dat"
   ]
  },
  {
   "cell_type": "code",
   "execution_count": 6,
   "metadata": {},
   "outputs": [
    {
     "data": {
      "text/html": [
       "<div>\n",
       "<style scoped>\n",
       "    .dataframe tbody tr th:only-of-type {\n",
       "        vertical-align: middle;\n",
       "    }\n",
       "\n",
       "    .dataframe tbody tr th {\n",
       "        vertical-align: top;\n",
       "    }\n",
       "\n",
       "    .dataframe thead th {\n",
       "        text-align: right;\n",
       "    }\n",
       "</style>\n",
       "<table border=\"1\" class=\"dataframe\">\n",
       "  <thead>\n",
       "    <tr style=\"text-align: right;\">\n",
       "      <th></th>\n",
       "      <th>userID</th>\n",
       "      <th>movieID</th>\n",
       "      <th>rating</th>\n",
       "      <th>timestamp</th>\n",
       "    </tr>\n",
       "  </thead>\n",
       "  <tbody>\n",
       "    <tr>\n",
       "      <th>0</th>\n",
       "      <td>1</td>\n",
       "      <td>1193</td>\n",
       "      <td>5</td>\n",
       "      <td>978300760</td>\n",
       "    </tr>\n",
       "    <tr>\n",
       "      <th>1</th>\n",
       "      <td>1</td>\n",
       "      <td>661</td>\n",
       "      <td>3</td>\n",
       "      <td>978302109</td>\n",
       "    </tr>\n",
       "    <tr>\n",
       "      <th>2</th>\n",
       "      <td>1</td>\n",
       "      <td>914</td>\n",
       "      <td>3</td>\n",
       "      <td>978301968</td>\n",
       "    </tr>\n",
       "    <tr>\n",
       "      <th>3</th>\n",
       "      <td>1</td>\n",
       "      <td>3408</td>\n",
       "      <td>4</td>\n",
       "      <td>978300275</td>\n",
       "    </tr>\n",
       "    <tr>\n",
       "      <th>4</th>\n",
       "      <td>1</td>\n",
       "      <td>2355</td>\n",
       "      <td>5</td>\n",
       "      <td>978824291</td>\n",
       "    </tr>\n",
       "  </tbody>\n",
       "</table>\n",
       "</div>"
      ],
      "text/plain": [
       "   userID  movieID  rating  timestamp\n",
       "0       1     1193       5  978300760\n",
       "1       1      661       3  978302109\n",
       "2       1      914       3  978301968\n",
       "3       1     3408       4  978300275\n",
       "4       1     2355       5  978824291"
      ]
     },
     "execution_count": 6,
     "metadata": {},
     "output_type": "execute_result"
    }
   ],
   "source": [
    "ratings.head()"
   ]
  },
  {
   "cell_type": "code",
   "execution_count": 7,
   "metadata": {},
   "outputs": [
    {
     "data": {
      "text/plain": [
       "<matplotlib.axes._subplots.AxesSubplot at 0x7f90c9460e10>"
      ]
     },
     "execution_count": 7,
     "metadata": {},
     "output_type": "execute_result"
    },
    {
     "data": {
      "image/png": "[encoded data removed]",
      "text/plain": [
       "<Figure size 720x432 with 1 Axes>"
      ]
     },
     "metadata": {},
     "output_type": "display_data"
    }
   ],
   "source": [
    "sns.distplot(ratings[\"rating\"], kde=False)"
   ]
  },
  {
   "cell_type": "code",
   "execution_count": 8,
   "metadata": {},
   "outputs": [
    {
     "data": {
      "text/plain": [
       "<matplotlib.axes._subplots.AxesSubplot at 0x7f903bc69dd0>"
      ]
     },
     "execution_count": 8,
     "metadata": {},
     "output_type": "execute_result"
    },
    {
     "data": {
      "image/png": "[encoded data removed]",
      "text/plain": [
       "<Figure size 720x432 with 1 Axes>"
      ]
     },
     "metadata": {},
     "output_type": "display_data"
    }
   ],
   "source": [
    "ratings['datetime'] = pd.to_datetime(ratings['timestamp'], unit='s')\n",
    "ratings.drop('timestamp', axis=1, inplace=True)\n",
    "sns.distplot(ratings['datetime'], kde=False)"
   ]
  },
  {
   "cell_type": "code",
   "execution_count": 9,
   "metadata": {},
   "outputs": [
    {
     "name": "stdout",
     "output_type": "stream",
     "text": [
      "6040\n",
      "3706\n",
      "Coverage : 4.4684%\n"
     ]
    }
   ],
   "source": [
    "n_users = len(ratings.userID.unique())\n",
    "n_items = len(ratings.movieID.unique())\n",
    "print(n_users)\n",
    "print(n_items)\n",
    "print(\"Coverage : {:.4f}%\".format(len(ratings) * 100 / (n_users * n_items)))"
   ]
  },
  {
   "cell_type": "markdown",
   "metadata": {},
   "source": [
    "### 2.2 movies.dat"
   ]
  },
  {
   "cell_type": "code",
   "execution_count": 10,
   "metadata": {},
   "outputs": [
    {
     "data": {
      "text/html": [
       "<div>\n",
       "<style scoped>\n",
       "    .dataframe tbody tr th:only-of-type {\n",
       "        vertical-align: middle;\n",
       "    }\n",
       "\n",
       "    .dataframe tbody tr th {\n",
       "        vertical-align: top;\n",
       "    }\n",
       "\n",
       "    .dataframe thead th {\n",
       "        text-align: right;\n",
       "    }\n",
       "</style>\n",
       "<table border=\"1\" class=\"dataframe\">\n",
       "  <thead>\n",
       "    <tr style=\"text-align: right;\">\n",
       "      <th></th>\n",
       "      <th>movieID</th>\n",
       "      <th>title</th>\n",
       "      <th>genres</th>\n",
       "    </tr>\n",
       "  </thead>\n",
       "  <tbody>\n",
       "    <tr>\n",
       "      <th>0</th>\n",
       "      <td>1</td>\n",
       "      <td>Toy Story (1995)</td>\n",
       "      <td>Animation|Children's|Comedy</td>\n",
       "    </tr>\n",
       "    <tr>\n",
       "      <th>1</th>\n",
       "      <td>2</td>\n",
       "      <td>Jumanji (1995)</td>\n",
       "      <td>Adventure|Children's|Fantasy</td>\n",
       "    </tr>\n",
       "    <tr>\n",
       "      <th>2</th>\n",
       "      <td>3</td>\n",
       "      <td>Grumpier Old Men (1995)</td>\n",
       "      <td>Comedy|Romance</td>\n",
       "    </tr>\n",
       "    <tr>\n",
       "      <th>3</th>\n",
       "      <td>4</td>\n",
       "      <td>Waiting to Exhale (1995)</td>\n",
       "      <td>Comedy|Drama</td>\n",
       "    </tr>\n",
       "    <tr>\n",
       "      <th>4</th>\n",
       "      <td>5</td>\n",
       "      <td>Father of the Bride Part II (1995)</td>\n",
       "      <td>Comedy</td>\n",
       "    </tr>\n",
       "  </tbody>\n",
       "</table>\n",
       "</div>"
      ],
      "text/plain": [
       "   movieID                               title                        genres\n",
       "0        1                    Toy Story (1995)   Animation|Children's|Comedy\n",
       "1        2                      Jumanji (1995)  Adventure|Children's|Fantasy\n",
       "2        3             Grumpier Old Men (1995)                Comedy|Romance\n",
       "3        4            Waiting to Exhale (1995)                  Comedy|Drama\n",
       "4        5  Father of the Bride Part II (1995)                        Comedy"
      ]
     },
     "execution_count": 10,
     "metadata": {},
     "output_type": "execute_result"
    }
   ],
   "source": [
    "movies.head()"
   ]
  },
  {
   "cell_type": "code",
   "execution_count": 11,
   "metadata": {},
   "outputs": [
    {
     "data": {
      "text/html": [
       "<div>\n",
       "<style scoped>\n",
       "    .dataframe tbody tr th:only-of-type {\n",
       "        vertical-align: middle;\n",
       "    }\n",
       "\n",
       "    .dataframe tbody tr th {\n",
       "        vertical-align: top;\n",
       "    }\n",
       "\n",
       "    .dataframe thead th {\n",
       "        text-align: right;\n",
       "    }\n",
       "</style>\n",
       "<table border=\"1\" class=\"dataframe\">\n",
       "  <thead>\n",
       "    <tr style=\"text-align: right;\">\n",
       "      <th></th>\n",
       "      <th>movieID</th>\n",
       "      <th>title</th>\n",
       "      <th>genres</th>\n",
       "      <th>year</th>\n",
       "    </tr>\n",
       "  </thead>\n",
       "  <tbody>\n",
       "    <tr>\n",
       "      <th>0</th>\n",
       "      <td>1</td>\n",
       "      <td>Toy Story</td>\n",
       "      <td>[Animation, Children's, Comedy]</td>\n",
       "      <td>1995</td>\n",
       "    </tr>\n",
       "    <tr>\n",
       "      <th>1</th>\n",
       "      <td>2</td>\n",
       "      <td>Jumanji</td>\n",
       "      <td>[Adventure, Children's, Fantasy]</td>\n",
       "      <td>1995</td>\n",
       "    </tr>\n",
       "    <tr>\n",
       "      <th>2</th>\n",
       "      <td>3</td>\n",
       "      <td>Grumpier Old Men</td>\n",
       "      <td>[Comedy, Romance]</td>\n",
       "      <td>1995</td>\n",
       "    </tr>\n",
       "    <tr>\n",
       "      <th>3</th>\n",
       "      <td>4</td>\n",
       "      <td>Waiting to Exhale</td>\n",
       "      <td>[Comedy, Drama]</td>\n",
       "      <td>1995</td>\n",
       "    </tr>\n",
       "    <tr>\n",
       "      <th>4</th>\n",
       "      <td>5</td>\n",
       "      <td>Father of the Bride Part II</td>\n",
       "      <td>[Comedy]</td>\n",
       "      <td>1995</td>\n",
       "    </tr>\n",
       "    <tr>\n",
       "      <th>...</th>\n",
       "      <td>...</td>\n",
       "      <td>...</td>\n",
       "      <td>...</td>\n",
       "      <td>...</td>\n",
       "    </tr>\n",
       "    <tr>\n",
       "      <th>3878</th>\n",
       "      <td>3948</td>\n",
       "      <td>Meet the Parents</td>\n",
       "      <td>[Comedy]</td>\n",
       "      <td>2000</td>\n",
       "    </tr>\n",
       "    <tr>\n",
       "      <th>3879</th>\n",
       "      <td>3949</td>\n",
       "      <td>Requiem for a Dream</td>\n",
       "      <td>[Drama]</td>\n",
       "      <td>2000</td>\n",
       "    </tr>\n",
       "    <tr>\n",
       "      <th>3880</th>\n",
       "      <td>3950</td>\n",
       "      <td>Tigerland</td>\n",
       "      <td>[Drama]</td>\n",
       "      <td>2000</td>\n",
       "    </tr>\n",
       "    <tr>\n",
       "      <th>3881</th>\n",
       "      <td>3951</td>\n",
       "      <td>Two Family House</td>\n",
       "      <td>[Drama]</td>\n",
       "      <td>2000</td>\n",
       "    </tr>\n",
       "    <tr>\n",
       "      <th>3882</th>\n",
       "      <td>3952</td>\n",
       "      <td>Contender, The</td>\n",
       "      <td>[Drama, Thriller]</td>\n",
       "      <td>2000</td>\n",
       "    </tr>\n",
       "  </tbody>\n",
       "</table>\n",
       "<p>3883 rows × 4 columns</p>\n",
       "</div>"
      ],
      "text/plain": [
       "      movieID                         title                            genres  \\\n",
       "0           1                    Toy Story    [Animation, Children's, Comedy]   \n",
       "1           2                      Jumanji   [Adventure, Children's, Fantasy]   \n",
       "2           3             Grumpier Old Men                  [Comedy, Romance]   \n",
       "3           4            Waiting to Exhale                    [Comedy, Drama]   \n",
       "4           5  Father of the Bride Part II                           [Comedy]   \n",
       "...       ...                           ...                               ...   \n",
       "3878     3948             Meet the Parents                           [Comedy]   \n",
       "3879     3949          Requiem for a Dream                            [Drama]   \n",
       "3880     3950                    Tigerland                            [Drama]   \n",
       "3881     3951             Two Family House                            [Drama]   \n",
       "3882     3952               Contender, The                  [Drama, Thriller]   \n",
       "\n",
       "      year  \n",
       "0     1995  \n",
       "1     1995  \n",
       "2     1995  \n",
       "3     1995  \n",
       "4     1995  \n",
       "...    ...  \n",
       "3878  2000  \n",
       "3879  2000  \n",
       "3880  2000  \n",
       "3881  2000  \n",
       "3882  2000  \n",
       "\n",
       "[3883 rows x 4 columns]"
      ]
     },
     "execution_count": 11,
     "metadata": {},
     "output_type": "execute_result"
    }
   ],
   "source": [
    "movies_refine = movies.copy()\n",
    "movies_refine['year'] = (movies_refine['title'].str.extract(r'(\\d{4})')).astype('int32')\n",
    "movies_refine = movies_refine.dropna()\n",
    "movies_refine['title'] = (movies_refine['title'].str.extract(r'(^[^\\(]+)'))[0]\n",
    "movies_refine['genres'] = movies_refine['genres'].str.split('|')\n",
    "\n",
    "movies_refine"
   ]
  },
  {
   "cell_type": "code",
   "execution_count": 12,
   "metadata": {},
   "outputs": [
    {
     "data": {
      "text/plain": [
       "1996    344\n",
       "1995    342\n",
       "1998    335\n",
       "1997    314\n",
       "1999    281\n",
       "       ... \n",
       "2001      1\n",
       "2010      1\n",
       "3000      1\n",
       "1921      1\n",
       "8230      1\n",
       "Name: year, Length: 88, dtype: int64"
      ]
     },
     "execution_count": 12,
     "metadata": {},
     "output_type": "execute_result"
    }
   ],
   "source": [
    "movies_refine.year.unique()\n",
    "movies_refine.year.value_counts()"
   ]
  },
  {
   "cell_type": "code",
   "execution_count": 13,
   "metadata": {},
   "outputs": [
    {
     "name": "stdout",
     "output_type": "stream",
     "text": [
      "{'Action': 503,\n",
      " 'Adventure': 283,\n",
      " 'Animation': 105,\n",
      " \"Children's\": 251,\n",
      " 'Comedy': 1200,\n",
      " 'Crime': 211,\n",
      " 'Documentary': 127,\n",
      " 'Drama': 1603,\n",
      " 'Fantasy': 68,\n",
      " 'Film-Noir': 44,\n",
      " 'Horror': 343,\n",
      " 'Musical': 114,\n",
      " 'Mystery': 106,\n",
      " 'Romance': 471,\n",
      " 'Sci-Fi': 276,\n",
      " 'Thriller': 492,\n",
      " 'War': 143,\n",
      " 'Western': 68}\n"
     ]
    }
   ],
   "source": [
    "genre_count = dict()\n",
    "for index, series in movies_refine.iterrows():\n",
    "    for genre in series['genres']:\n",
    "        genre_count[genre] = genre_count.get(genre, 0) + 1\n",
    "pprint(genre_count)"
   ]
  },
  {
   "cell_type": "markdown",
   "metadata": {},
   "source": [
    "### 2.3 users.dat"
   ]
  },
  {
   "cell_type": "code",
   "execution_count": 14,
   "metadata": {},
   "outputs": [
    {
     "data": {
      "text/html": [
       "<div>\n",
       "<style scoped>\n",
       "    .dataframe tbody tr th:only-of-type {\n",
       "        vertical-align: middle;\n",
       "    }\n",
       "\n",
       "    .dataframe tbody tr th {\n",
       "        vertical-align: top;\n",
       "    }\n",
       "\n",
       "    .dataframe thead th {\n",
       "        text-align: right;\n",
       "    }\n",
       "</style>\n",
       "<table border=\"1\" class=\"dataframe\">\n",
       "  <thead>\n",
       "    <tr style=\"text-align: right;\">\n",
       "      <th></th>\n",
       "      <th>userID</th>\n",
       "      <th>gender</th>\n",
       "      <th>age</th>\n",
       "      <th>occupation</th>\n",
       "      <th>zipcode</th>\n",
       "    </tr>\n",
       "  </thead>\n",
       "  <tbody>\n",
       "    <tr>\n",
       "      <th>0</th>\n",
       "      <td>1</td>\n",
       "      <td>F</td>\n",
       "      <td>1</td>\n",
       "      <td>10</td>\n",
       "      <td>48067</td>\n",
       "    </tr>\n",
       "    <tr>\n",
       "      <th>1</th>\n",
       "      <td>2</td>\n",
       "      <td>M</td>\n",
       "      <td>56</td>\n",
       "      <td>16</td>\n",
       "      <td>70072</td>\n",
       "    </tr>\n",
       "    <tr>\n",
       "      <th>2</th>\n",
       "      <td>3</td>\n",
       "      <td>M</td>\n",
       "      <td>25</td>\n",
       "      <td>15</td>\n",
       "      <td>55117</td>\n",
       "    </tr>\n",
       "    <tr>\n",
       "      <th>3</th>\n",
       "      <td>4</td>\n",
       "      <td>M</td>\n",
       "      <td>45</td>\n",
       "      <td>7</td>\n",
       "      <td>02460</td>\n",
       "    </tr>\n",
       "    <tr>\n",
       "      <th>4</th>\n",
       "      <td>5</td>\n",
       "      <td>M</td>\n",
       "      <td>25</td>\n",
       "      <td>20</td>\n",
       "      <td>55455</td>\n",
       "    </tr>\n",
       "  </tbody>\n",
       "</table>\n",
       "</div>"
      ],
      "text/plain": [
       "   userID gender  age  occupation zipcode\n",
       "0       1      F    1          10   48067\n",
       "1       2      M   56          16   70072\n",
       "2       3      M   25          15   55117\n",
       "3       4      M   45           7   02460\n",
       "4       5      M   25          20   55455"
      ]
     },
     "execution_count": 14,
     "metadata": {},
     "output_type": "execute_result"
    }
   ],
   "source": [
    "users.head()"
   ]
  },
  {
   "cell_type": "code",
   "execution_count": 15,
   "metadata": {},
   "outputs": [
    {
     "data": {
      "text/plain": [
       "M    4331\n",
       "F    1709\n",
       "Name: gender, dtype: int64"
      ]
     },
     "execution_count": 15,
     "metadata": {},
     "output_type": "execute_result"
    }
   ],
   "source": [
    "users.gender.value_counts()"
   ]
  },
  {
   "cell_type": "code",
   "execution_count": 16,
   "metadata": {},
   "outputs": [
    {
     "data": {
      "text/plain": [
       "25    2096\n",
       "35    1193\n",
       "18    1103\n",
       "45     550\n",
       "50     496\n",
       "56     380\n",
       "1      222\n",
       "Name: age, dtype: int64"
      ]
     },
     "execution_count": 16,
     "metadata": {},
     "output_type": "execute_result"
    }
   ],
   "source": [
    "users.age.value_counts()"
   ]
  },
  {
   "cell_type": "code",
   "execution_count": 17,
   "metadata": {},
   "outputs": [
    {
     "data": {
      "text/plain": [
       "6040"
      ]
     },
     "execution_count": 17,
     "metadata": {},
     "output_type": "execute_result"
    }
   ],
   "source": [
    "len(users)"
   ]
  },
  {
   "cell_type": "code",
   "execution_count": 18,
   "metadata": {},
   "outputs": [
    {
     "data": {
      "text/plain": [
       "6040"
      ]
     },
     "execution_count": 18,
     "metadata": {},
     "output_type": "execute_result"
    }
   ],
   "source": [
    "len(ratings.userID.unique())"
   ]
  },
  {
   "cell_type": "markdown",
   "metadata": {},
   "source": [
    "## 3. Matrix Factorization Collaborative Filtering"
   ]
  },
  {
   "cell_type": "code",
   "execution_count": 15,
   "metadata": {},
   "outputs": [],
   "source": [
    "X_train, X_valid, X_test = train_test_split(ratings[[\"userID\", \"movieID\", \"rating\"]], split_ratio=0.8, shuffle=True, output_type='df')"
   ]
  },
  {
   "cell_type": "code",
   "execution_count": 6,
   "metadata": {},
   "outputs": [],
   "source": [
    "reader = Reader(rating_scale=(1, 5))\n",
    "dataset = Dataset.load_from_df(ratings[['userID', 'movieID', 'rating']], reader=reader)\n",
    "trainset, testset = split(dataset, test_size=0.1)\n",
    "testset = pd.DataFrame(testset, columns=['userID', 'movieID', 'rating']).astype(int)\n",
    "test_benchmark = testset.copy()\n",
    "\n",
    "user_idx = ratings['userID'].unique().tolist()\n",
    "item_idx = ratings['movieID'].unique().tolist()\n",
    "user_dict = dict(zip(user_idx, [i for i in range(len(user_idx))]))\n",
    "item_dict = dict(zip(item_idx, [i for i in range(len(item_idx))]))"
   ]
  },
  {
   "cell_type": "markdown",
   "metadata": {},
   "source": [
    "### 3.1 Low rank Approximation (Truncated SVD)"
   ]
  },
  {
   "cell_type": "code",
   "execution_count": 7,
   "metadata": {},
   "outputs": [],
   "source": [
    "# Create matrix\n",
    "data_mat = np.array(ratings.pivot(index = 'movieID', columns = 'userID', values = 'rating'))\n",
    "data_mat = np.nan_to_num(data_mat)\n",
    "# Normalize\n",
    "nor_data_mat = data_mat - np.mean(data_mat, axis = 0)\n",
    "# Truncated SVD (50 eigenvalues)\n",
    "u, s, vT = svds(nor_data_mat, k = 50)\n",
    "# Reconstruct matrix using Truncated SVD\n",
    "recon_data_mat = u.dot(np.diag(s)).dot(vT)"
   ]
  },
  {
   "cell_type": "code",
   "execution_count": 8,
   "metadata": {},
   "outputs": [
    {
     "name": "stdout",
     "output_type": "stream",
     "text": [
      "RMSE loss (truncatedSVD) testset: 3.4342\n"
     ]
    }
   ],
   "source": [
    "pred = []\n",
    "for ui, ii in zip(testset.userID, testset.movieID):\n",
    "    pred = recon_data_mat[item_dict[ii], user_dict[ui]]\n",
    "print(\"RMSE loss (truncatedSVD) testset: {:.4f}\".format(np.sqrt(np.mean(X_test.rating - pred)**2)))"
   ]
  },
  {
   "cell_type": "code",
   "execution_count": 9,
   "metadata": {},
   "outputs": [],
   "source": [
    "def recommend_movies(pred_matrix, userID, num_recommendations):\n",
    "    \"\"\"Recommend movies based on reconstructed svd matrix\n",
    "    Params:\n",
    "     - pred_matrix (num_movies, num_users) : reconstructed matrix\n",
    "     - userID (scalar)\n",
    "     - num_recommendations (scalar)\n",
    "    Outputs:\n",
    "     - movies\n",
    "    \"\"\"\n",
    "    sorted_predict_idx = np.argsort(pred_matrix[:, userID-1])[::-1]\n",
    "\n",
    "    user_data = ratings[ratings.userID == (userID)]\n",
    "    user_full = user_data.merge(movies).sort_values(['rating'], ascending=False)\n",
    "    print('User {0} has already rated {1} movies.'.format(userID, len(user_full)))\n",
    "    print('Recommending highest {0} predicted ratings movies not already rated.'.format(num_recommendations))\n",
    "\n",
    "    recommendations = movies.loc[sorted_predict_idx, :]\n",
    "    recommendations['pred_rating'] = pred_matrix[sorted_predict_idx, userID-1]\n",
    "    recommendations = recommendations[~movies.movieID.isin(user_full.movieID)].head(num_recommendations)\n",
    "\n",
    "    return recommendations"
   ]
  },
  {
   "cell_type": "code",
   "execution_count": 10,
   "metadata": {},
   "outputs": [
    {
     "name": "stdout",
     "output_type": "stream",
     "text": [
      "User 96 has already rated 81 movies.\n",
      "Recommending highest 20 predicted ratings movies not already rated.\n"
     ]
    },
    {
     "data": {
      "text/html": [
       "<div>\n",
       "<style scoped>\n",
       "    .dataframe tbody tr th:only-of-type {\n",
       "        vertical-align: middle;\n",
       "    }\n",
       "\n",
       "    .dataframe tbody tr th {\n",
       "        vertical-align: top;\n",
       "    }\n",
       "\n",
       "    .dataframe thead th {\n",
       "        text-align: right;\n",
       "    }\n",
       "</style>\n",
       "<table border=\"1\" class=\"dataframe\">\n",
       "  <thead>\n",
       "    <tr style=\"text-align: right;\">\n",
       "      <th></th>\n",
       "      <th>movieID</th>\n",
       "      <th>title</th>\n",
       "      <th>genres</th>\n",
       "      <th>pred_rating</th>\n",
       "    </tr>\n",
       "  </thead>\n",
       "  <tbody>\n",
       "    <tr>\n",
       "      <th>309</th>\n",
       "      <td>312</td>\n",
       "      <td>Stuart Saves His Family (1995)</td>\n",
       "      <td>Comedy</td>\n",
       "      <td>5.364311</td>\n",
       "    </tr>\n",
       "    <tr>\n",
       "      <th>513</th>\n",
       "      <td>517</td>\n",
       "      <td>Rising Sun (1993)</td>\n",
       "      <td>Action|Drama|Mystery</td>\n",
       "      <td>5.298545</td>\n",
       "    </tr>\n",
       "    <tr>\n",
       "      <th>1848</th>\n",
       "      <td>1917</td>\n",
       "      <td>Armageddon (1998)</td>\n",
       "      <td>Action|Adventure|Sci-Fi|Thriller</td>\n",
       "      <td>5.033802</td>\n",
       "    </tr>\n",
       "    <tr>\n",
       "      <th>579</th>\n",
       "      <td>583</td>\n",
       "      <td>Dear Diary (Caro Diario) (1994)</td>\n",
       "      <td>Comedy|Drama</td>\n",
       "      <td>4.331755</td>\n",
       "    </tr>\n",
       "    <tr>\n",
       "      <th>106</th>\n",
       "      <td>108</td>\n",
       "      <td>Catwalk (1995)</td>\n",
       "      <td>Documentary</td>\n",
       "      <td>4.236774</td>\n",
       "    </tr>\n",
       "    <tr>\n",
       "      <th>593</th>\n",
       "      <td>597</td>\n",
       "      <td>Pretty Woman (1990)</td>\n",
       "      <td>Comedy|Romance</td>\n",
       "      <td>3.402118</td>\n",
       "    </tr>\n",
       "    <tr>\n",
       "      <th>1107</th>\n",
       "      <td>1123</td>\n",
       "      <td>Perfect Candidate, A (1996)</td>\n",
       "      <td>Documentary</td>\n",
       "      <td>3.342127</td>\n",
       "    </tr>\n",
       "    <tr>\n",
       "      <th>2557</th>\n",
       "      <td>2626</td>\n",
       "      <td>Edge of Seventeen (1998)</td>\n",
       "      <td>Comedy|Drama|Romance</td>\n",
       "      <td>3.278566</td>\n",
       "    </tr>\n",
       "    <tr>\n",
       "      <th>1106</th>\n",
       "      <td>1122</td>\n",
       "      <td>Plutonium Circus (1995)</td>\n",
       "      <td>Documentary</td>\n",
       "      <td>3.229110</td>\n",
       "    </tr>\n",
       "    <tr>\n",
       "      <th>2203</th>\n",
       "      <td>2272</td>\n",
       "      <td>One True Thing (1998)</td>\n",
       "      <td>Drama</td>\n",
       "      <td>3.139722</td>\n",
       "    </tr>\n",
       "    <tr>\n",
       "      <th>253</th>\n",
       "      <td>256</td>\n",
       "      <td>Junior (1994)</td>\n",
       "      <td>Comedy|Sci-Fi</td>\n",
       "      <td>3.066495</td>\n",
       "    </tr>\n",
       "    <tr>\n",
       "      <th>443</th>\n",
       "      <td>447</td>\n",
       "      <td>Favor, The (1994)</td>\n",
       "      <td>Comedy|Romance</td>\n",
       "      <td>3.046894</td>\n",
       "    </tr>\n",
       "    <tr>\n",
       "      <th>1173</th>\n",
       "      <td>1190</td>\n",
       "      <td>Tie Me Up! Tie Me Down! (1990)</td>\n",
       "      <td>Drama</td>\n",
       "      <td>3.009093</td>\n",
       "    </tr>\n",
       "    <tr>\n",
       "      <th>49</th>\n",
       "      <td>50</td>\n",
       "      <td>Usual Suspects, The (1995)</td>\n",
       "      <td>Crime|Thriller</td>\n",
       "      <td>2.965955</td>\n",
       "    </tr>\n",
       "    <tr>\n",
       "      <th>2374</th>\n",
       "      <td>2443</td>\n",
       "      <td>Playing by Heart (1998)</td>\n",
       "      <td>Drama|Romance</td>\n",
       "      <td>2.748656</td>\n",
       "    </tr>\n",
       "    <tr>\n",
       "      <th>2931</th>\n",
       "      <td>3000</td>\n",
       "      <td>Princess Mononoke, The (Mononoke Hime) (1997)</td>\n",
       "      <td>Action|Adventure|Animation</td>\n",
       "      <td>2.694161</td>\n",
       "    </tr>\n",
       "    <tr>\n",
       "      <th>1563</th>\n",
       "      <td>1604</td>\n",
       "      <td>Money Talks (1997)</td>\n",
       "      <td>Action|Comedy</td>\n",
       "      <td>2.692849</td>\n",
       "    </tr>\n",
       "    <tr>\n",
       "      <th>1120</th>\n",
       "      <td>1136</td>\n",
       "      <td>Monty Python and the Holy Grail (1974)</td>\n",
       "      <td>Comedy</td>\n",
       "      <td>2.620704</td>\n",
       "    </tr>\n",
       "    <tr>\n",
       "      <th>3510</th>\n",
       "      <td>3579</td>\n",
       "      <td>I Dreamed of Africa (2000)</td>\n",
       "      <td>Drama</td>\n",
       "      <td>2.571264</td>\n",
       "    </tr>\n",
       "    <tr>\n",
       "      <th>33</th>\n",
       "      <td>34</td>\n",
       "      <td>Babe (1995)</td>\n",
       "      <td>Children's|Comedy|Drama</td>\n",
       "      <td>2.564867</td>\n",
       "    </tr>\n",
       "  </tbody>\n",
       "</table>\n",
       "</div>"
      ],
      "text/plain": [
       "      movieID                                          title  \\\n",
       "309       312                 Stuart Saves His Family (1995)   \n",
       "513       517                              Rising Sun (1993)   \n",
       "1848     1917                              Armageddon (1998)   \n",
       "579       583                Dear Diary (Caro Diario) (1994)   \n",
       "106       108                                 Catwalk (1995)   \n",
       "593       597                            Pretty Woman (1990)   \n",
       "1107     1123                    Perfect Candidate, A (1996)   \n",
       "2557     2626                       Edge of Seventeen (1998)   \n",
       "1106     1122                        Plutonium Circus (1995)   \n",
       "2203     2272                          One True Thing (1998)   \n",
       "253       256                                  Junior (1994)   \n",
       "443       447                              Favor, The (1994)   \n",
       "1173     1190                 Tie Me Up! Tie Me Down! (1990)   \n",
       "49         50                     Usual Suspects, The (1995)   \n",
       "2374     2443                        Playing by Heart (1998)   \n",
       "2931     3000  Princess Mononoke, The (Mononoke Hime) (1997)   \n",
       "1563     1604                             Money Talks (1997)   \n",
       "1120     1136         Monty Python and the Holy Grail (1974)   \n",
       "3510     3579                     I Dreamed of Africa (2000)   \n",
       "33         34                                    Babe (1995)   \n",
       "\n",
       "                                genres  pred_rating  \n",
       "309                             Comedy     5.364311  \n",
       "513               Action|Drama|Mystery     5.298545  \n",
       "1848  Action|Adventure|Sci-Fi|Thriller     5.033802  \n",
       "579                       Comedy|Drama     4.331755  \n",
       "106                        Documentary     4.236774  \n",
       "593                     Comedy|Romance     3.402118  \n",
       "1107                       Documentary     3.342127  \n",
       "2557              Comedy|Drama|Romance     3.278566  \n",
       "1106                       Documentary     3.229110  \n",
       "2203                             Drama     3.139722  \n",
       "253                      Comedy|Sci-Fi     3.066495  \n",
       "443                     Comedy|Romance     3.046894  \n",
       "1173                             Drama     3.009093  \n",
       "49                      Crime|Thriller     2.965955  \n",
       "2374                     Drama|Romance     2.748656  \n",
       "2931        Action|Adventure|Animation     2.694161  \n",
       "1563                     Action|Comedy     2.692849  \n",
       "1120                            Comedy     2.620704  \n",
       "3510                             Drama     2.571264  \n",
       "33             Children's|Comedy|Drama     2.564867  "
      ]
     },
     "execution_count": 10,
     "metadata": {},
     "output_type": "execute_result"
    }
   ],
   "source": [
    "recon = recommend_movies(recon_data_mat, 96, 20)\n",
    "recon"
   ]
  },
  {
   "cell_type": "markdown",
   "metadata": {},
   "source": [
    "### 3.2.1 FunkSVD (slow ver.)"
   ]
  },
  {
   "cell_type": "markdown",
   "metadata": {},
   "source": [
    "**Load model**"
   ]
  },
  {
   "cell_type": "code",
   "execution_count": 11,
   "metadata": {},
   "outputs": [],
   "source": [
    "slow_svd = SVD(X_train, X_valid, K=15, lambd=0.1, lr_rate=2, max_iter=50, verbose=True, user_based=0, use_biased=True)"
   ]
  },
  {
   "cell_type": "markdown",
   "metadata": {},
   "source": [
    "**Training phase and evaluate**"
   ]
  },
  {
   "cell_type": "code",
   "execution_count": 12,
   "metadata": {},
   "outputs": [
    {
     "name": "stdout",
     "output_type": "stream",
     "text": [
      "iter = 10 , loss = 3.666668593918189 , RMSE train = 0.992403691194758\n",
      "iter = 20 , loss = 0.4316555253325737 , RMSE train = 0.9801125084039296\n",
      "iter = 30 , loss = 0.12079419680707637 , RMSE train = 0.9799757647229623\n",
      "iter = 40 , loss = 0.09041497620158898 , RMSE train before = 0.9799757647229623 ,RMSE train after = 0.9799729928199263\n",
      "Stop\n",
      "It takes 641.175267457962s to finish training phase\n",
      "RMSE loss with test set : 0.9754092999709763\n"
     ]
    }
   ],
   "source": [
    "start = time.time()\n",
    "slow_svd.fit()\n",
    "print(\"It takes {}s to finish training phase\".format(time.time() - start))\n",
    "#\n",
    "test_matrix = testset.values\n",
    "test_matrix[:, :2] -= 1\n",
    "print(\"RMSE loss with test set :\",slow_svd.evaluate(test_matrix))"
   ]
  },
  {
   "cell_type": "code",
   "execution_count": 16,
   "metadata": {},
   "outputs": [],
   "source": [
    "pred = [] \n",
    "for ui, ii in zip(testset.userID, testset.movieID):\n",
    "    pred.append(slow_svd.predict(ui-1, ii-1))\n",
    "test_benchmark['slow_svd'] = pred"
   ]
  },
  {
   "cell_type": "code",
   "execution_count": 97,
   "metadata": {},
   "outputs": [],
   "source": [
    "def recommend_movies(model, userID, num_recommendations):\n",
    "    rrs = []\n",
    "    pred = model.predict_for_user(userID - 1)\n",
    "    for k, v in sorted(pred.items(), key=lambda item: item[1])[::-1][:num_recommendations]:\n",
    "        rrs.append(movies.loc[movies.movieID == k])\n",
    "    \n",
    "    recommendation = pd.concat(rrs)\n",
    "\n",
    "    return pd.concat(rrs)"
   ]
  },
  {
   "cell_type": "code",
   "execution_count": 18,
   "metadata": {},
   "outputs": [
    {
     "data": {
      "text/html": [
       "<div>\n",
       "<style scoped>\n",
       "    .dataframe tbody tr th:only-of-type {\n",
       "        vertical-align: middle;\n",
       "    }\n",
       "\n",
       "    .dataframe tbody tr th {\n",
       "        vertical-align: top;\n",
       "    }\n",
       "\n",
       "    .dataframe thead th {\n",
       "        text-align: right;\n",
       "    }\n",
       "</style>\n",
       "<table border=\"1\" class=\"dataframe\">\n",
       "  <thead>\n",
       "    <tr style=\"text-align: right;\">\n",
       "      <th></th>\n",
       "      <th>movieID</th>\n",
       "      <th>title</th>\n",
       "      <th>genres</th>\n",
       "    </tr>\n",
       "  </thead>\n",
       "  <tbody>\n",
       "    <tr>\n",
       "      <th>2633</th>\n",
       "      <td>2702</td>\n",
       "      <td>Summer of Sam (1999)</td>\n",
       "      <td>Drama</td>\n",
       "    </tr>\n",
       "    <tr>\n",
       "      <th>232</th>\n",
       "      <td>235</td>\n",
       "      <td>Ed Wood (1994)</td>\n",
       "      <td>Comedy|Drama</td>\n",
       "    </tr>\n",
       "    <tr>\n",
       "      <th>2583</th>\n",
       "      <td>2652</td>\n",
       "      <td>Curse of Frankenstein, The (1957)</td>\n",
       "      <td>Horror</td>\n",
       "    </tr>\n",
       "    <tr>\n",
       "      <th>3815</th>\n",
       "      <td>3885</td>\n",
       "      <td>Love &amp; Sex (2000)</td>\n",
       "      <td>Comedy|Romance</td>\n",
       "    </tr>\n",
       "    <tr>\n",
       "      <th>3192</th>\n",
       "      <td>3261</td>\n",
       "      <td>Singles (1992)</td>\n",
       "      <td>Comedy|Drama|Romance</td>\n",
       "    </tr>\n",
       "    <tr>\n",
       "      <th>860</th>\n",
       "      <td>871</td>\n",
       "      <td>Lover's Knot (1996)</td>\n",
       "      <td>Comedy</td>\n",
       "    </tr>\n",
       "    <tr>\n",
       "      <th>1129</th>\n",
       "      <td>1145</td>\n",
       "      <td>Snowriders (1996)</td>\n",
       "      <td>Documentary</td>\n",
       "    </tr>\n",
       "    <tr>\n",
       "      <th>1752</th>\n",
       "      <td>1817</td>\n",
       "      <td>No Looking Back (1998)</td>\n",
       "      <td>Comedy|Drama|Romance</td>\n",
       "    </tr>\n",
       "    <tr>\n",
       "      <th>2551</th>\n",
       "      <td>2620</td>\n",
       "      <td>This Is My Father (1998)</td>\n",
       "      <td>Drama|Romance</td>\n",
       "    </tr>\n",
       "    <tr>\n",
       "      <th>2347</th>\n",
       "      <td>2416</td>\n",
       "      <td>Back to School (1986)</td>\n",
       "      <td>Comedy</td>\n",
       "    </tr>\n",
       "    <tr>\n",
       "      <th>1557</th>\n",
       "      <td>1598</td>\n",
       "      <td>Desperate Measures (1998)</td>\n",
       "      <td>Crime|Drama|Thriller</td>\n",
       "    </tr>\n",
       "    <tr>\n",
       "      <th>16</th>\n",
       "      <td>17</td>\n",
       "      <td>Sense and Sensibility (1995)</td>\n",
       "      <td>Drama|Romance</td>\n",
       "    </tr>\n",
       "    <tr>\n",
       "      <th>3350</th>\n",
       "      <td>3419</td>\n",
       "      <td>Something for Everyone (1970)</td>\n",
       "      <td>Comedy|Crime</td>\n",
       "    </tr>\n",
       "    <tr>\n",
       "      <th>3394</th>\n",
       "      <td>3463</td>\n",
       "      <td>Last Resort (1994)</td>\n",
       "      <td>Comedy</td>\n",
       "    </tr>\n",
       "    <tr>\n",
       "      <th>1502</th>\n",
       "      <td>1541</td>\n",
       "      <td>Addicted to Love (1997)</td>\n",
       "      <td>Comedy|Romance</td>\n",
       "    </tr>\n",
       "    <tr>\n",
       "      <th>2665</th>\n",
       "      <td>2734</td>\n",
       "      <td>Mosquito Coast, The (1986)</td>\n",
       "      <td>Drama</td>\n",
       "    </tr>\n",
       "    <tr>\n",
       "      <th>1314</th>\n",
       "      <td>1334</td>\n",
       "      <td>Blob, The (1958)</td>\n",
       "      <td>Horror|Sci-Fi</td>\n",
       "    </tr>\n",
       "    <tr>\n",
       "      <th>2906</th>\n",
       "      <td>2975</td>\n",
       "      <td>Best Man, The (1999)</td>\n",
       "      <td>Drama</td>\n",
       "    </tr>\n",
       "    <tr>\n",
       "      <th>961</th>\n",
       "      <td>973</td>\n",
       "      <td>Meet John Doe (1941)</td>\n",
       "      <td>Drama</td>\n",
       "    </tr>\n",
       "  </tbody>\n",
       "</table>\n",
       "</div>"
      ],
      "text/plain": [
       "      movieID                              title                genres\n",
       "2633     2702               Summer of Sam (1999)                 Drama\n",
       "232       235                     Ed Wood (1994)          Comedy|Drama\n",
       "2583     2652  Curse of Frankenstein, The (1957)                Horror\n",
       "3815     3885                  Love & Sex (2000)        Comedy|Romance\n",
       "3192     3261                     Singles (1992)  Comedy|Drama|Romance\n",
       "860       871                Lover's Knot (1996)                Comedy\n",
       "1129     1145                  Snowriders (1996)           Documentary\n",
       "1752     1817             No Looking Back (1998)  Comedy|Drama|Romance\n",
       "2551     2620           This Is My Father (1998)         Drama|Romance\n",
       "2347     2416              Back to School (1986)                Comedy\n",
       "1557     1598          Desperate Measures (1998)  Crime|Drama|Thriller\n",
       "16         17       Sense and Sensibility (1995)         Drama|Romance\n",
       "3350     3419      Something for Everyone (1970)          Comedy|Crime\n",
       "3394     3463                 Last Resort (1994)                Comedy\n",
       "1502     1541            Addicted to Love (1997)        Comedy|Romance\n",
       "2665     2734         Mosquito Coast, The (1986)                 Drama\n",
       "1314     1334                   Blob, The (1958)         Horror|Sci-Fi\n",
       "2906     2975               Best Man, The (1999)                 Drama\n",
       "961       973               Meet John Doe (1941)                 Drama"
      ]
     },
     "execution_count": 18,
     "metadata": {},
     "output_type": "execute_result"
    }
   ],
   "source": [
    "recommend_movies(slow_svd, 96, 20)"
   ]
  },
  {
   "cell_type": "markdown",
   "metadata": {},
   "source": [
    "### 3.2.2 FunkSVD (fast ver.)"
   ]
  },
  {
   "cell_type": "markdown",
   "metadata": {},
   "source": [
    "**Load model & Training**"
   ]
  },
  {
   "cell_type": "code",
   "execution_count": 19,
   "metadata": {},
   "outputs": [
    {
     "name": "stdout",
     "output_type": "stream",
     "text": [
      "Load data & Preprocessing !\n",
      "Epoch 1/50\n",
      "Epoch 2/50\n",
      "Epoch 3/50\n",
      "Epoch 4/50\n",
      "Epoch 5/50\n",
      "Epoch 6/50\n",
      "Epoch 7/50\n",
      "Epoch 8/50\n",
      "Epoch 9/50\n",
      "Epoch 10/50\n",
      "Valid loss: 0.82653 --- Valid RMSE: 0.90914 --- Valid MAE: 0.72135\n",
      "Epoch 11/50\n",
      "Epoch 12/50\n",
      "Epoch 13/50\n",
      "Epoch 14/50\n",
      "Epoch 15/50\n",
      "Epoch 16/50\n",
      "Epoch 17/50\n",
      "Epoch 18/50\n",
      "Epoch 19/50\n",
      "Epoch 20/50\n",
      "Valid loss: 0.80227 --- Valid RMSE: 0.89569 --- Valid MAE: 0.70959\n",
      "Epoch 21/50\n",
      "Epoch 22/50\n",
      "Epoch 23/50\n",
      "Epoch 24/50\n",
      "Epoch 25/50\n",
      "Epoch 26/50\n",
      "Epoch 27/50\n",
      "Epoch 28/50\n",
      "Epoch 29/50\n",
      "Epoch 30/50\n",
      "Valid loss: 0.77158 --- Valid RMSE: 0.87840 --- Valid MAE: 0.69472\n",
      "Epoch 31/50\n",
      "Epoch 32/50\n",
      "Epoch 33/50\n",
      "Epoch 34/50\n",
      "Epoch 35/50\n",
      "Epoch 36/50\n",
      "Epoch 37/50\n",
      "Epoch 38/50\n",
      "Epoch 39/50\n",
      "Epoch 40/50\n",
      "Valid loss: 0.75099 --- Valid RMSE: 0.86660 --- Valid MAE: 0.68459\n",
      "Epoch 41/50\n",
      "Epoch 42/50\n",
      "Epoch 43/50\n",
      "Epoch 44/50\n",
      "Epoch 45/50\n",
      "Epoch 46/50\n",
      "Epoch 47/50\n",
      "Epoch 48/50\n",
      "Epoch 49/50\n",
      "Epoch 50/50\n",
      "Valid loss: 0.73842 --- Valid RMSE: 0.85932 --- Valid MAE: 0.67816\n",
      "It takes 1.8370842933654785s to finish training phase\n"
     ]
    }
   ],
   "source": [
    "fast_svd = fastSVD(K=15, lambd=0.06, lr_rate=0.004, max_iter=50)\n",
    "start = time.time()\n",
    "fast_svd.fit(X_train, X_valid, early_stopping=False, verbose=True, use_biased=True)\n",
    "print(\"It takes {}s to finish training phase\".format(time.time() - start))"
   ]
  },
  {
   "cell_type": "markdown",
   "metadata": {},
   "source": [
    "**Evaluate**"
   ]
  },
  {
   "cell_type": "code",
   "execution_count": 20,
   "metadata": {},
   "outputs": [
    {
     "name": "stdout",
     "output_type": "stream",
     "text": [
      "RMSE loss for testset  0.8559064619608517\n"
     ]
    }
   ],
   "source": [
    "print(\"RMSE loss for testset \", fast_svd.evaluate(X_test))"
   ]
  },
  {
   "cell_type": "code",
   "execution_count": 105,
   "metadata": {},
   "outputs": [],
   "source": [
    "def recommend_movies(model, userID, num_recommendations):\n",
    "    \"\"\"\n",
    "    \"\"\"\n",
    "    rrs = []\n",
    "    pred = model.predict_for_user(userID)\n",
    "    for k, v in sorted(pred.items(), key=lambda item: item[1])[::-1][:num_recommendations]:\n",
    "        rrs.append(movies.loc[movies.movieID == k])\n",
    "    \n",
    "    recommendation = pd.concat(rrs)\n",
    "\n",
    "    return pd.concat(rrs)"
   ]
  },
  {
   "cell_type": "code",
   "execution_count": 23,
   "metadata": {},
   "outputs": [
    {
     "data": {
      "text/html": [
       "<div>\n",
       "<style scoped>\n",
       "    .dataframe tbody tr th:only-of-type {\n",
       "        vertical-align: middle;\n",
       "    }\n",
       "\n",
       "    .dataframe tbody tr th {\n",
       "        vertical-align: top;\n",
       "    }\n",
       "\n",
       "    .dataframe thead th {\n",
       "        text-align: right;\n",
       "    }\n",
       "</style>\n",
       "<table border=\"1\" class=\"dataframe\">\n",
       "  <thead>\n",
       "    <tr style=\"text-align: right;\">\n",
       "      <th></th>\n",
       "      <th>movieID</th>\n",
       "      <th>title</th>\n",
       "      <th>genres</th>\n",
       "    </tr>\n",
       "  </thead>\n",
       "  <tbody>\n",
       "    <tr>\n",
       "      <th>2836</th>\n",
       "      <td>2905</td>\n",
       "      <td>Sanjuro (1962)</td>\n",
       "      <td>Action|Adventure</td>\n",
       "    </tr>\n",
       "    <tr>\n",
       "      <th>523</th>\n",
       "      <td>527</td>\n",
       "      <td>Schindler's List (1993)</td>\n",
       "      <td>Drama|War</td>\n",
       "    </tr>\n",
       "    <tr>\n",
       "      <th>315</th>\n",
       "      <td>318</td>\n",
       "      <td>Shawshank Redemption, The (1994)</td>\n",
       "      <td>Drama</td>\n",
       "    </tr>\n",
       "    <tr>\n",
       "      <th>1180</th>\n",
       "      <td>1198</td>\n",
       "      <td>Raiders of the Lost Ark (1981)</td>\n",
       "      <td>Action|Adventure</td>\n",
       "    </tr>\n",
       "    <tr>\n",
       "      <th>1132</th>\n",
       "      <td>1148</td>\n",
       "      <td>Wrong Trousers, The (1993)</td>\n",
       "      <td>Animation|Comedy</td>\n",
       "    </tr>\n",
       "    <tr>\n",
       "      <th>941</th>\n",
       "      <td>953</td>\n",
       "      <td>It's a Wonderful Life (1946)</td>\n",
       "      <td>Drama</td>\n",
       "    </tr>\n",
       "    <tr>\n",
       "      <th>1189</th>\n",
       "      <td>1207</td>\n",
       "      <td>To Kill a Mockingbird (1962)</td>\n",
       "      <td>Drama</td>\n",
       "    </tr>\n",
       "    <tr>\n",
       "      <th>2434</th>\n",
       "      <td>2503</td>\n",
       "      <td>Apple, The (Sib) (1998)</td>\n",
       "      <td>Drama</td>\n",
       "    </tr>\n",
       "    <tr>\n",
       "      <th>2255</th>\n",
       "      <td>2324</td>\n",
       "      <td>Life Is Beautiful (La Vita � bella) (1997)</td>\n",
       "      <td>Comedy|Drama</td>\n",
       "    </tr>\n",
       "    <tr>\n",
       "      <th>257</th>\n",
       "      <td>260</td>\n",
       "      <td>Star Wars: Episode IV - A New Hope (1977)</td>\n",
       "      <td>Action|Adventure|Fantasy|Sci-Fi</td>\n",
       "    </tr>\n",
       "    <tr>\n",
       "      <th>1242</th>\n",
       "      <td>1262</td>\n",
       "      <td>Great Escape, The (1963)</td>\n",
       "      <td>Adventure|War</td>\n",
       "    </tr>\n",
       "    <tr>\n",
       "      <th>2693</th>\n",
       "      <td>2762</td>\n",
       "      <td>Sixth Sense, The (1999)</td>\n",
       "      <td>Thriller</td>\n",
       "    </tr>\n",
       "    <tr>\n",
       "      <th>643</th>\n",
       "      <td>649</td>\n",
       "      <td>Cold Fever (� k�ldum klaka) (1994)</td>\n",
       "      <td>Comedy|Drama</td>\n",
       "    </tr>\n",
       "    <tr>\n",
       "      <th>1215</th>\n",
       "      <td>1234</td>\n",
       "      <td>Sting, The (1973)</td>\n",
       "      <td>Comedy|Crime</td>\n",
       "    </tr>\n",
       "    <tr>\n",
       "      <th>52</th>\n",
       "      <td>53</td>\n",
       "      <td>Lamerica (1994)</td>\n",
       "      <td>Drama</td>\n",
       "    </tr>\n",
       "    <tr>\n",
       "      <th>735</th>\n",
       "      <td>745</td>\n",
       "      <td>Close Shave, A (1995)</td>\n",
       "      <td>Animation|Comedy|Thriller</td>\n",
       "    </tr>\n",
       "    <tr>\n",
       "      <th>1179</th>\n",
       "      <td>1197</td>\n",
       "      <td>Princess Bride, The (1987)</td>\n",
       "      <td>Action|Adventure|Comedy|Romance</td>\n",
       "    </tr>\n",
       "    <tr>\n",
       "      <th>1950</th>\n",
       "      <td>2019</td>\n",
       "      <td>Seven Samurai (The Magnificent Seven) (Shichin...</td>\n",
       "      <td>Action|Drama</td>\n",
       "    </tr>\n",
       "    <tr>\n",
       "      <th>847</th>\n",
       "      <td>858</td>\n",
       "      <td>Godfather, The (1972)</td>\n",
       "      <td>Action|Crime|Drama</td>\n",
       "    </tr>\n",
       "    <tr>\n",
       "      <th>3269</th>\n",
       "      <td>3338</td>\n",
       "      <td>For All Mankind (1989)</td>\n",
       "      <td>Documentary</td>\n",
       "    </tr>\n",
       "  </tbody>\n",
       "</table>\n",
       "</div>"
      ],
      "text/plain": [
       "      movieID                                              title  \\\n",
       "2836     2905                                     Sanjuro (1962)   \n",
       "523       527                            Schindler's List (1993)   \n",
       "315       318                   Shawshank Redemption, The (1994)   \n",
       "1180     1198                     Raiders of the Lost Ark (1981)   \n",
       "1132     1148                         Wrong Trousers, The (1993)   \n",
       "941       953                       It's a Wonderful Life (1946)   \n",
       "1189     1207                       To Kill a Mockingbird (1962)   \n",
       "2434     2503                            Apple, The (Sib) (1998)   \n",
       "2255     2324         Life Is Beautiful (La Vita � bella) (1997)   \n",
       "257       260          Star Wars: Episode IV - A New Hope (1977)   \n",
       "1242     1262                           Great Escape, The (1963)   \n",
       "2693     2762                            Sixth Sense, The (1999)   \n",
       "643       649                 Cold Fever (� k�ldum klaka) (1994)   \n",
       "1215     1234                                  Sting, The (1973)   \n",
       "52         53                                    Lamerica (1994)   \n",
       "735       745                              Close Shave, A (1995)   \n",
       "1179     1197                         Princess Bride, The (1987)   \n",
       "1950     2019  Seven Samurai (The Magnificent Seven) (Shichin...   \n",
       "847       858                              Godfather, The (1972)   \n",
       "3269     3338                             For All Mankind (1989)   \n",
       "\n",
       "                               genres  \n",
       "2836                 Action|Adventure  \n",
       "523                         Drama|War  \n",
       "315                             Drama  \n",
       "1180                 Action|Adventure  \n",
       "1132                 Animation|Comedy  \n",
       "941                             Drama  \n",
       "1189                            Drama  \n",
       "2434                            Drama  \n",
       "2255                     Comedy|Drama  \n",
       "257   Action|Adventure|Fantasy|Sci-Fi  \n",
       "1242                    Adventure|War  \n",
       "2693                         Thriller  \n",
       "643                      Comedy|Drama  \n",
       "1215                     Comedy|Crime  \n",
       "52                              Drama  \n",
       "735         Animation|Comedy|Thriller  \n",
       "1179  Action|Adventure|Comedy|Romance  \n",
       "1950                     Action|Drama  \n",
       "847                Action|Crime|Drama  \n",
       "3269                      Documentary  "
      ]
     },
     "execution_count": 23,
     "metadata": {},
     "output_type": "execute_result"
    }
   ],
   "source": [
    "recommend_movies(fast_svd, 96, 20)"
   ]
  },
  {
   "cell_type": "markdown",
   "metadata": {},
   "source": [
    "### 3.3 Nonnegative Matrix Factorization"
   ]
  },
  {
   "cell_type": "markdown",
   "metadata": {},
   "source": [
    "**Load model**"
   ]
  },
  {
   "cell_type": "code",
   "execution_count": 102,
   "metadata": {},
   "outputs": [],
   "source": [
    "model_nmf = NMF(K=15, lambd_pu=0.06, lambd_qi=0.06, max_iter=50)"
   ]
  },
  {
   "cell_type": "markdown",
   "metadata": {},
   "source": [
    "**Training phase** (! Be aware of tuning hyperparams)"
   ]
  },
  {
   "cell_type": "code",
   "execution_count": 103,
   "metadata": {},
   "outputs": [
    {
     "name": "stdout",
     "output_type": "stream",
     "text": [
      "Load data & Preprocessing !\n",
      "Epoch 1/50\n",
      "Epoch 2/50\n",
      "Epoch 3/50\n",
      "Epoch 4/50\n",
      "Epoch 5/50\n",
      "Valid loss: 25163485.145797864 --- Valid RMSE: 5016.321874221974 --- Valid MAE: 89.72486653624607\n",
      "Epoch 6/50\n",
      "Epoch 7/50\n",
      "Epoch 8/50\n",
      "Epoch 9/50\n",
      "Epoch 10/50\n",
      "Valid loss: 442916.85936810594 --- Valid RMSE: 665.5199917118238 --- Valid MAE: 10.265350753750232\n",
      "Epoch 11/50\n",
      "Epoch 12/50\n",
      "Epoch 13/50\n",
      "Epoch 14/50\n",
      "Epoch 15/50\n",
      "Valid loss: 467.1641880653231 --- Valid RMSE: 21.613981309914262 --- Valid MAE: 4.49896776443101\n",
      "Epoch 16/50\n",
      "Epoch 17/50\n",
      "Epoch 18/50\n",
      "Epoch 19/50\n",
      "Epoch 20/50\n",
      "Valid loss: 15903.132989035932 --- Valid RMSE: 126.10762462688737 --- Valid MAE: 4.678916825994688\n",
      "Epoch 21/50\n",
      "Epoch 22/50\n",
      "Epoch 23/50\n",
      "Epoch 24/50\n",
      "Epoch 25/50\n",
      "Valid loss: 2963.733382526901 --- Valid RMSE: 54.440181690796194 --- Valid MAE: 5.027876032404536\n",
      "Epoch 26/50\n",
      "Epoch 27/50\n",
      "Epoch 28/50\n",
      "Epoch 29/50\n",
      "Epoch 30/50\n",
      "Valid loss: 769867.7660307259 --- Valid RMSE: 877.4210882072108 --- Valid MAE: 9.924605362976973\n",
      "Epoch 31/50\n",
      "Epoch 32/50\n",
      "Epoch 33/50\n",
      "Epoch 34/50\n",
      "Epoch 35/50\n",
      "Valid loss: 1762.5255356859223 --- Valid RMSE: 41.982443183858685 --- Valid MAE: 4.3877840412858875\n",
      "Epoch 36/50\n",
      "Epoch 37/50\n",
      "Epoch 38/50\n",
      "Epoch 39/50\n",
      "Epoch 40/50\n",
      "Valid loss: 387059.6212509846 --- Valid RMSE: 622.1411586215661 --- Valid MAE: 10.072785822013708\n",
      "Epoch 41/50\n",
      "Epoch 42/50\n",
      "Epoch 43/50\n",
      "Epoch 44/50\n",
      "Epoch 45/50\n",
      "Valid loss: 642581.0353655107 --- Valid RMSE: 801.611523972498 --- Valid MAE: 7.612184883007271\n",
      "Epoch 46/50\n",
      "Epoch 47/50\n",
      "Epoch 48/50\n",
      "Epoch 49/50\n",
      "Epoch 50/50\n",
      "Valid loss: 295302.3981335368 --- Valid RMSE: 543.4173333024415 --- Valid MAE: 10.691063676046062\n"
     ]
    }
   ],
   "source": [
    "model_nmf.fit(X_train, X_valid, early_stopping=False, verbose=True)"
   ]
  },
  {
   "cell_type": "code",
   "execution_count": null,
   "metadata": {},
   "outputs": [],
   "source": [
    "model_nmf = nmf()\n",
    "model_nmf.fit(trainset)"
   ]
  },
  {
   "cell_type": "code",
   "execution_count": 179,
   "metadata": {},
   "outputs": [
    {
     "name": "stdout",
     "output_type": "stream",
     "text": [
      "RMSE: 0.9118\n"
     ]
    },
    {
     "data": {
      "text/plain": [
       "0.9117739164591644"
      ]
     },
     "execution_count": 179,
     "metadata": {},
     "output_type": "execute_result"
    }
   ],
   "source": [
    "predictions = model_nmf.test(testset)\n",
    "accuracy.rmse(predictions)"
   ]
  },
  {
   "cell_type": "code",
   "execution_count": 180,
   "metadata": {},
   "outputs": [],
   "source": [
    "def recommend_movies(model, userID, num_recommendations):\n",
    "    pred = {}\n",
    "    rrs = []\n",
    "    for iid in ratings.movieID.unique():\n",
    "        pred[iid] = model.predict(str(userID), str(iid)).est\n",
    "\n",
    "    for k, v in sorted(pred.items(), key=lambda item: item[1])[::-1][:num_recommendations]:\n",
    "        rrs.append(movies.loc[movies.movieID == k])\n",
    "    \n",
    "    recommendation = pd.concat(rrs)\n",
    "\n",
    "    return pd.concat(rrs)"
   ]
  },
  {
   "cell_type": "code",
   "execution_count": 181,
   "metadata": {},
   "outputs": [
    {
     "data": {
      "text/html": [
       "<div>\n",
       "<style scoped>\n",
       "    .dataframe tbody tr th:only-of-type {\n",
       "        vertical-align: middle;\n",
       "    }\n",
       "\n",
       "    .dataframe tbody tr th {\n",
       "        vertical-align: top;\n",
       "    }\n",
       "\n",
       "    .dataframe thead th {\n",
       "        text-align: right;\n",
       "    }\n",
       "</style>\n",
       "<table border=\"1\" class=\"dataframe\">\n",
       "  <thead>\n",
       "    <tr style=\"text-align: right;\">\n",
       "      <th></th>\n",
       "      <th>movieID</th>\n",
       "      <th>title</th>\n",
       "      <th>genres</th>\n",
       "    </tr>\n",
       "  </thead>\n",
       "  <tbody>\n",
       "    <tr>\n",
       "      <th>2840</th>\n",
       "      <td>2909</td>\n",
       "      <td>Five Wives, Three Secretaries and Me (1998)</td>\n",
       "      <td>Documentary</td>\n",
       "    </tr>\n",
       "    <tr>\n",
       "      <th>3538</th>\n",
       "      <td>3607</td>\n",
       "      <td>One Little Indian (1973)</td>\n",
       "      <td>Comedy|Drama|Western</td>\n",
       "    </tr>\n",
       "    <tr>\n",
       "      <th>2776</th>\n",
       "      <td>2845</td>\n",
       "      <td>White Boys (1999)</td>\n",
       "      <td>Drama</td>\n",
       "    </tr>\n",
       "    <tr>\n",
       "      <th>2634</th>\n",
       "      <td>2703</td>\n",
       "      <td>Broken Vessels (1998)</td>\n",
       "      <td>Drama</td>\n",
       "    </tr>\n",
       "    <tr>\n",
       "      <th>2129</th>\n",
       "      <td>2198</td>\n",
       "      <td>Modulations (1998)</td>\n",
       "      <td>Documentary</td>\n",
       "    </tr>\n",
       "    <tr>\n",
       "      <th>3461</th>\n",
       "      <td>3530</td>\n",
       "      <td>Smoking/No Smoking (1993)</td>\n",
       "      <td>Comedy</td>\n",
       "    </tr>\n",
       "    <tr>\n",
       "      <th>283</th>\n",
       "      <td>286</td>\n",
       "      <td>Nemesis 2: Nebula (1995)</td>\n",
       "      <td>Action|Sci-Fi|Thriller</td>\n",
       "    </tr>\n",
       "    <tr>\n",
       "      <th>1774</th>\n",
       "      <td>1843</td>\n",
       "      <td>Slappy and the Stinkers (1998)</td>\n",
       "      <td>Children's|Comedy</td>\n",
       "    </tr>\n",
       "    <tr>\n",
       "      <th>3313</th>\n",
       "      <td>3382</td>\n",
       "      <td>Song of Freedom (1936)</td>\n",
       "      <td>Drama</td>\n",
       "    </tr>\n",
       "    <tr>\n",
       "      <th>125</th>\n",
       "      <td>127</td>\n",
       "      <td>Silence of the Palace, The (Saimt el Qusur) (1...</td>\n",
       "      <td>Drama</td>\n",
       "    </tr>\n",
       "    <tr>\n",
       "      <th>3254</th>\n",
       "      <td>3323</td>\n",
       "      <td>Chain of Fools (2000)</td>\n",
       "      <td>Comedy|Crime</td>\n",
       "    </tr>\n",
       "    <tr>\n",
       "      <th>2369</th>\n",
       "      <td>2438</td>\n",
       "      <td>Outside Ozona (1998)</td>\n",
       "      <td>Drama|Thriller</td>\n",
       "    </tr>\n",
       "    <tr>\n",
       "      <th>3587</th>\n",
       "      <td>3656</td>\n",
       "      <td>Lured (1947)</td>\n",
       "      <td>Crime</td>\n",
       "    </tr>\n",
       "    <tr>\n",
       "      <th>587</th>\n",
       "      <td>591</td>\n",
       "      <td>Tough and Deadly (1995)</td>\n",
       "      <td>Action|Drama|Thriller</td>\n",
       "    </tr>\n",
       "    <tr>\n",
       "      <th>2474</th>\n",
       "      <td>2543</td>\n",
       "      <td>Six Ways to Sunday (1997)</td>\n",
       "      <td>Comedy</td>\n",
       "    </tr>\n",
       "    <tr>\n",
       "      <th>400</th>\n",
       "      <td>404</td>\n",
       "      <td>Brother Minister: The Assassination of Malcolm...</td>\n",
       "      <td>Documentary</td>\n",
       "    </tr>\n",
       "    <tr>\n",
       "      <th>1799</th>\n",
       "      <td>1868</td>\n",
       "      <td>Truce, The (1996)</td>\n",
       "      <td>Drama|War</td>\n",
       "    </tr>\n",
       "    <tr>\n",
       "      <th>1410</th>\n",
       "      <td>1434</td>\n",
       "      <td>Stranger, The (1994)</td>\n",
       "      <td>Action</td>\n",
       "    </tr>\n",
       "    <tr>\n",
       "      <th>619</th>\n",
       "      <td>624</td>\n",
       "      <td>Condition Red (1995)</td>\n",
       "      <td>Action|Drama|Thriller</td>\n",
       "    </tr>\n",
       "    <tr>\n",
       "      <th>2239</th>\n",
       "      <td>2308</td>\n",
       "      <td>Detroit 9000 (1973)</td>\n",
       "      <td>Action|Crime</td>\n",
       "    </tr>\n",
       "  </tbody>\n",
       "</table>\n",
       "</div>"
      ],
      "text/plain": [
       "      movieID                                              title  \\\n",
       "2840     2909        Five Wives, Three Secretaries and Me (1998)   \n",
       "3538     3607                           One Little Indian (1973)   \n",
       "2776     2845                                  White Boys (1999)   \n",
       "2634     2703                              Broken Vessels (1998)   \n",
       "2129     2198                                 Modulations (1998)   \n",
       "3461     3530                          Smoking/No Smoking (1993)   \n",
       "283       286                           Nemesis 2: Nebula (1995)   \n",
       "1774     1843                     Slappy and the Stinkers (1998)   \n",
       "3313     3382                             Song of Freedom (1936)   \n",
       "125       127  Silence of the Palace, The (Saimt el Qusur) (1...   \n",
       "3254     3323                              Chain of Fools (2000)   \n",
       "2369     2438                               Outside Ozona (1998)   \n",
       "3587     3656                                       Lured (1947)   \n",
       "587       591                            Tough and Deadly (1995)   \n",
       "2474     2543                          Six Ways to Sunday (1997)   \n",
       "400       404  Brother Minister: The Assassination of Malcolm...   \n",
       "1799     1868                                  Truce, The (1996)   \n",
       "1410     1434                               Stranger, The (1994)   \n",
       "619       624                               Condition Red (1995)   \n",
       "2239     2308                                Detroit 9000 (1973)   \n",
       "\n",
       "                      genres  \n",
       "2840             Documentary  \n",
       "3538    Comedy|Drama|Western  \n",
       "2776                   Drama  \n",
       "2634                   Drama  \n",
       "2129             Documentary  \n",
       "3461                  Comedy  \n",
       "283   Action|Sci-Fi|Thriller  \n",
       "1774       Children's|Comedy  \n",
       "3313                   Drama  \n",
       "125                    Drama  \n",
       "3254            Comedy|Crime  \n",
       "2369          Drama|Thriller  \n",
       "3587                   Crime  \n",
       "587    Action|Drama|Thriller  \n",
       "2474                  Comedy  \n",
       "400              Documentary  \n",
       "1799               Drama|War  \n",
       "1410                  Action  \n",
       "619    Action|Drama|Thriller  \n",
       "2239            Action|Crime  "
      ]
     },
     "execution_count": 181,
     "metadata": {},
     "output_type": "execute_result"
    }
   ],
   "source": [
    "recommend_movies(model_nmf, 96, 20)"
   ]
  },
  {
   "cell_type": "markdown",
   "metadata": {},
   "source": [
    "## 4 Deep learning"
   ]
  },
  {
   "cell_type": "markdown",
   "metadata": {},
   "source": [
    "### 4.1 Simple deep model using Embedding layer"
   ]
  },
  {
   "cell_type": "markdown",
   "metadata": {},
   "source": [
    "**Prepare data for DeepMF model**"
   ]
  },
  {
   "cell_type": "code",
   "execution_count": 73,
   "metadata": {},
   "outputs": [],
   "source": [
    "user_list = ratings['userID'].values.reshape(-1, 1) -1\n",
    "item_list = ratings['movieID'].values.reshape(-1, 1) -1\n",
    "rating_list = ratings['rating'].values.reshape(-1, 1)\n",
    "max_user_id = ratings.userID.unique().max()\n",
    "max_item_id = ratings.movieID.unique().max()"
   ]
  },
  {
   "cell_type": "markdown",
   "metadata": {},
   "source": [
    "**Create and compile model**"
   ]
  },
  {
   "cell_type": "code",
   "execution_count": 74,
   "metadata": {},
   "outputs": [],
   "source": [
    "model_deepmf = DeepMF(max_user_id, max_item_id, K=100)\n",
    "callbacks = [EarlyStopping('val_loss', patience=2), \n",
    "             ModelCheckpoint('deepmf_weights.h5', save_best_only=True)]\n",
    "model_deepmf.compile(loss='mse', optimizer='adam')"
   ]
  },
  {
   "cell_type": "code",
   "execution_count": 75,
   "metadata": {},
   "outputs": [
    {
     "name": "stdout",
     "output_type": "stream",
     "text": [
      "Train on 700146 samples, validate on 300063 samples\n",
      "Epoch 1/30\n",
      "700146/700146 [==============================] - 225s 322us/sample - loss: 2.2942 - val_loss: 14.2798\n",
      "Epoch 2/30\n",
      "700146/700146 [==============================] - 225s 322us/sample - loss: 0.8050 - val_loss: 14.2790\n",
      "Epoch 3/30\n",
      "700146/700146 [==============================] - 227s 325us/sample - loss: 0.6636 - val_loss: 14.2792\n",
      "Epoch 4/30\n",
      "700146/700146 [==============================] - 227s 324us/sample - loss: 0.5380 - val_loss: 14.2796\n"
     ]
    }
   ],
   "source": [
    "history = model_deepmf.fit([user_list, item_list], rating_list, epochs=30,\n",
    "                           validation_split=.3, verbose=1, callbacks=callbacks)"
   ]
  },
  {
   "cell_type": "markdown",
   "metadata": {},
   "source": [
    "**Load trained model for prediction phase**"
   ]
  },
  {
   "cell_type": "code",
   "execution_count": 9,
   "metadata": {},
   "outputs": [],
   "source": [
    "model_deepmf.load_weights('deepmf_weights.h5')"
   ]
  },
  {
   "cell_type": "markdown",
   "metadata": {},
   "source": [
    "**Pred rating for testset**"
   ]
  },
  {
   "cell_type": "code",
   "execution_count": null,
   "metadata": {},
   "outputs": [],
   "source": [
    "test_userid = testset.userID.tolist()\n",
    "test_movieid = testset.movieID.tolist()\n",
    "pred = [model_deepmf.predict_given_id(ui, ii) for ui, ii in tqdm(zip(test_userid, test_movieid))]"
   ]
  },
  {
   "cell_type": "code",
   "execution_count": 41,
   "metadata": {},
   "outputs": [
    {
     "name": "stdout",
     "output_type": "stream",
     "text": [
      "RMSE loss (deepMF) testset:  0.8486644449610745\n"
     ]
    }
   ],
   "source": [
    "print(\"RMSE loss (deepMF) testset: \", np.sqrt(np.mean((X_test_deepmf.pred - X_test_deepmf.rating)**2)))"
   ]
  },
  {
   "cell_type": "markdown",
   "metadata": {},
   "source": [
    "**Recommend top 20 given userID**"
   ]
  },
  {
   "cell_type": "code",
   "execution_count": 119,
   "metadata": {},
   "outputs": [],
   "source": [
    "def recommend_movies(model, userID, num_recommendations):\n",
    "    pred = {}\n",
    "    rrs = []\n",
    "    for iid in ratings.movieID.unique():\n",
    "        pred[iid] = model_deepmf.predict_given_id(userID, iid)\n",
    "\n",
    "    for k, v in sorted(pred.items(), key=lambda item: item[1])[::-1][:num_recommendations]:\n",
    "        rrs.append(movies.loc[movies.movieID == k])\n",
    "    \n",
    "    recommendation = pd.concat(rrs)\n",
    "    return recommendation"
   ]
  },
  {
   "cell_type": "code",
   "execution_count": 120,
   "metadata": {},
   "outputs": [
    {
     "data": {
      "text/html": [
       "<div>\n",
       "<style scoped>\n",
       "    .dataframe tbody tr th:only-of-type {\n",
       "        vertical-align: middle;\n",
       "    }\n",
       "\n",
       "    .dataframe tbody tr th {\n",
       "        vertical-align: top;\n",
       "    }\n",
       "\n",
       "    .dataframe thead th {\n",
       "        text-align: right;\n",
       "    }\n",
       "</style>\n",
       "<table border=\"1\" class=\"dataframe\">\n",
       "  <thead>\n",
       "    <tr style=\"text-align: right;\">\n",
       "      <th></th>\n",
       "      <th>movieID</th>\n",
       "      <th>title</th>\n",
       "      <th>genres</th>\n",
       "    </tr>\n",
       "  </thead>\n",
       "  <tbody>\n",
       "    <tr>\n",
       "      <th>941</th>\n",
       "      <td>953</td>\n",
       "      <td>It's a Wonderful Life (1946)</td>\n",
       "      <td>Drama</td>\n",
       "    </tr>\n",
       "    <tr>\n",
       "      <th>1022</th>\n",
       "      <td>1035</td>\n",
       "      <td>Sound of Music, The (1965)</td>\n",
       "      <td>Musical</td>\n",
       "    </tr>\n",
       "    <tr>\n",
       "      <th>523</th>\n",
       "      <td>527</td>\n",
       "      <td>Schindler's List (1993)</td>\n",
       "      <td>Drama|War</td>\n",
       "    </tr>\n",
       "    <tr>\n",
       "      <th>453</th>\n",
       "      <td>457</td>\n",
       "      <td>Fugitive, The (1993)</td>\n",
       "      <td>Action|Thriller</td>\n",
       "    </tr>\n",
       "    <tr>\n",
       "      <th>1242</th>\n",
       "      <td>1262</td>\n",
       "      <td>Great Escape, The (1963)</td>\n",
       "      <td>Adventure|War</td>\n",
       "    </tr>\n",
       "    <tr>\n",
       "      <th>257</th>\n",
       "      <td>260</td>\n",
       "      <td>Star Wars: Episode IV - A New Hope (1977)</td>\n",
       "      <td>Action|Adventure|Fantasy|Sci-Fi</td>\n",
       "    </tr>\n",
       "    <tr>\n",
       "      <th>1267</th>\n",
       "      <td>1287</td>\n",
       "      <td>Ben-Hur (1959)</td>\n",
       "      <td>Action|Adventure|Drama</td>\n",
       "    </tr>\n",
       "    <tr>\n",
       "      <th>1081</th>\n",
       "      <td>1097</td>\n",
       "      <td>E.T. the Extra-Terrestrial (1982)</td>\n",
       "      <td>Children's|Drama|Fantasy|Sci-Fi</td>\n",
       "    </tr>\n",
       "    <tr>\n",
       "      <th>902</th>\n",
       "      <td>914</td>\n",
       "      <td>My Fair Lady (1964)</td>\n",
       "      <td>Musical|Romance</td>\n",
       "    </tr>\n",
       "    <tr>\n",
       "      <th>1230</th>\n",
       "      <td>1250</td>\n",
       "      <td>Bridge on the River Kwai, The (1957)</td>\n",
       "      <td>Drama|War</td>\n",
       "    </tr>\n",
       "    <tr>\n",
       "      <th>1180</th>\n",
       "      <td>1198</td>\n",
       "      <td>Raiders of the Lost Ark (1981)</td>\n",
       "      <td>Action|Adventure</td>\n",
       "    </tr>\n",
       "    <tr>\n",
       "      <th>3032</th>\n",
       "      <td>3101</td>\n",
       "      <td>Fatal Attraction (1987)</td>\n",
       "      <td>Thriller</td>\n",
       "    </tr>\n",
       "    <tr>\n",
       "      <th>315</th>\n",
       "      <td>318</td>\n",
       "      <td>Shawshank Redemption, The (1994)</td>\n",
       "      <td>Drama</td>\n",
       "    </tr>\n",
       "    <tr>\n",
       "      <th>3127</th>\n",
       "      <td>3196</td>\n",
       "      <td>Stalag 17 (1953)</td>\n",
       "      <td>Drama|War</td>\n",
       "    </tr>\n",
       "    <tr>\n",
       "      <th>1215</th>\n",
       "      <td>1234</td>\n",
       "      <td>Sting, The (1973)</td>\n",
       "      <td>Comedy|Crime</td>\n",
       "    </tr>\n",
       "    <tr>\n",
       "      <th>2255</th>\n",
       "      <td>2324</td>\n",
       "      <td>Life Is Beautiful (La Vita � bella) (1997)</td>\n",
       "      <td>Comedy|Drama</td>\n",
       "    </tr>\n",
       "    <tr>\n",
       "      <th>908</th>\n",
       "      <td>920</td>\n",
       "      <td>Gone with the Wind (1939)</td>\n",
       "      <td>Drama|Romance|War</td>\n",
       "    </tr>\n",
       "    <tr>\n",
       "      <th>108</th>\n",
       "      <td>110</td>\n",
       "      <td>Braveheart (1995)</td>\n",
       "      <td>Action|Drama|War</td>\n",
       "    </tr>\n",
       "    <tr>\n",
       "      <th>2601</th>\n",
       "      <td>2670</td>\n",
       "      <td>Run Silent, Run Deep (1958)</td>\n",
       "      <td>War</td>\n",
       "    </tr>\n",
       "    <tr>\n",
       "      <th>957</th>\n",
       "      <td>969</td>\n",
       "      <td>African Queen, The (1951)</td>\n",
       "      <td>Action|Adventure|Romance|War</td>\n",
       "    </tr>\n",
       "  </tbody>\n",
       "</table>\n",
       "</div>"
      ],
      "text/plain": [
       "      movieID                                       title  \\\n",
       "941       953                It's a Wonderful Life (1946)   \n",
       "1022     1035                  Sound of Music, The (1965)   \n",
       "523       527                     Schindler's List (1993)   \n",
       "453       457                        Fugitive, The (1993)   \n",
       "1242     1262                    Great Escape, The (1963)   \n",
       "257       260   Star Wars: Episode IV - A New Hope (1977)   \n",
       "1267     1287                              Ben-Hur (1959)   \n",
       "1081     1097           E.T. the Extra-Terrestrial (1982)   \n",
       "902       914                         My Fair Lady (1964)   \n",
       "1230     1250        Bridge on the River Kwai, The (1957)   \n",
       "1180     1198              Raiders of the Lost Ark (1981)   \n",
       "3032     3101                     Fatal Attraction (1987)   \n",
       "315       318            Shawshank Redemption, The (1994)   \n",
       "3127     3196                            Stalag 17 (1953)   \n",
       "1215     1234                           Sting, The (1973)   \n",
       "2255     2324  Life Is Beautiful (La Vita � bella) (1997)   \n",
       "908       920                   Gone with the Wind (1939)   \n",
       "108       110                           Braveheart (1995)   \n",
       "2601     2670                 Run Silent, Run Deep (1958)   \n",
       "957       969                   African Queen, The (1951)   \n",
       "\n",
       "                               genres  \n",
       "941                             Drama  \n",
       "1022                          Musical  \n",
       "523                         Drama|War  \n",
       "453                   Action|Thriller  \n",
       "1242                    Adventure|War  \n",
       "257   Action|Adventure|Fantasy|Sci-Fi  \n",
       "1267           Action|Adventure|Drama  \n",
       "1081  Children's|Drama|Fantasy|Sci-Fi  \n",
       "902                   Musical|Romance  \n",
       "1230                        Drama|War  \n",
       "1180                 Action|Adventure  \n",
       "3032                         Thriller  \n",
       "315                             Drama  \n",
       "3127                        Drama|War  \n",
       "1215                     Comedy|Crime  \n",
       "2255                     Comedy|Drama  \n",
       "908                 Drama|Romance|War  \n",
       "108                  Action|Drama|War  \n",
       "2601                              War  \n",
       "957      Action|Adventure|Romance|War  "
      ]
     },
     "execution_count": 120,
     "metadata": {},
     "output_type": "execute_result"
    }
   ],
   "source": [
    "recommend_movies(model_deepmf, 96, 20)"
   ]
  },
  {
   "cell_type": "markdown",
   "metadata": {},
   "source": [
    "### 4.2 Neural Collaborative Filtering"
   ]
  },
  {
   "cell_type": "code",
   "execution_count": 41,
   "metadata": {},
   "outputs": [],
   "source": [
    "model_neuralmf = NeuralMF(max_item_id, max_user_id, latent_dim=64)"
   ]
  },
  {
   "cell_type": "code",
   "execution_count": 43,
   "metadata": {},
   "outputs": [
    {
     "data": {
      "image/png": "[encoded data removed]",
      "text/plain": [
       "<IPython.core.display.Image object>"
      ]
     },
     "execution_count": 43,
     "metadata": {},
     "output_type": "execute_result"
    }
   ],
   "source": [
    "plot_model(model_neuralmf, show_shapes=True)"
   ]
  },
  {
   "cell_type": "code",
   "execution_count": 44,
   "metadata": {},
   "outputs": [
    {
     "name": "stdout",
     "output_type": "stream",
     "text": [
      "Model: \"model\"\n",
      "__________________________________________________________________________________________________\n",
      "Layer (type)                    Output Shape         Param #     Connected to                     \n",
      "==================================================================================================\n",
      "item-input (InputLayer)         [(None, 1)]          0                                            \n",
      "__________________________________________________________________________________________________\n",
      "user-input (InputLayer)         [(None, 1)]          0                                            \n",
      "__________________________________________________________________________________________________\n",
      "movie-embedding-mlp (Embedding) (None, 1, 64)        252992      item-input[0][0]                 \n",
      "__________________________________________________________________________________________________\n",
      "user-embedding-mlp (Embedding)  (None, 1, 64)        386624      user-input[0][0]                 \n",
      "__________________________________________________________________________________________________\n",
      "flatten-movie-mlp (Flatten)     (None, 64)           0           movie-embedding-mlp[0][0]        \n",
      "__________________________________________________________________________________________________\n",
      "flatten-user-mlp (Flatten)      (None, 64)           0           user-embedding-mlp[0][0]         \n",
      "__________________________________________________________________________________________________\n",
      "concat (Concatenate)            (None, 128)          0           flatten-movie-mlp[0][0]          \n",
      "                                                                 flatten-user-mlp[0][0]           \n",
      "__________________________________________________________________________________________________\n",
      "dropout (Dropout)               (None, 128)          0           concat[0][0]                     \n",
      "__________________________________________________________________________________________________\n",
      "fc-1 (Dense)                    (None, 100)          12900       dropout[0][0]                    \n",
      "__________________________________________________________________________________________________\n",
      "batch-norm-1 (BatchNormalizatio (None, 100)          400         fc-1[0][0]                       \n",
      "__________________________________________________________________________________________________\n",
      "dropout_1 (Dropout)             (None, 100)          0           batch-norm-1[0][0]               \n",
      "__________________________________________________________________________________________________\n",
      "fc-2 (Dense)                    (None, 50)           5050        dropout_1[0][0]                  \n",
      "__________________________________________________________________________________________________\n",
      "movie-embedding-mf (Embedding)  (None, 1, 64)        252992      item-input[0][0]                 \n",
      "__________________________________________________________________________________________________\n",
      "user-embedding-mf (Embedding)   (None, 1, 64)        386624      user-input[0][0]                 \n",
      "__________________________________________________________________________________________________\n",
      "batch-norm-2 (BatchNormalizatio (None, 50)           200         fc-2[0][0]                       \n",
      "__________________________________________________________________________________________________\n",
      "flatten-movie-mf (Flatten)      (None, 64)           0           movie-embedding-mf[0][0]         \n",
      "__________________________________________________________________________________________________\n",
      "flatten-user-mf (Flatten)       (None, 64)           0           user-embedding-mf[0][0]          \n",
      "__________________________________________________________________________________________________\n",
      "dropout_2 (Dropout)             (None, 50)           0           batch-norm-2[0][0]               \n",
      "__________________________________________________________________________________________________\n",
      "pred-mf (Dot)                   (None, 1)            0           flatten-movie-mf[0][0]           \n",
      "                                                                 flatten-user-mf[0][0]            \n",
      "__________________________________________________________________________________________________\n",
      "pred-mlp (Dense)                (None, 10)           510         dropout_2[0][0]                  \n",
      "__________________________________________________________________________________________________\n",
      "combine-mlp-mf (Concatenate)    (None, 11)           0           pred-mf[0][0]                    \n",
      "                                                                 pred-mlp[0][0]                   \n",
      "__________________________________________________________________________________________________\n",
      "result (Dense)                  (None, 1)            12          combine-mlp-mf[0][0]             \n",
      "==================================================================================================\n",
      "Total params: 1,298,304\n",
      "Trainable params: 1,298,004\n",
      "Non-trainable params: 300\n",
      "__________________________________________________________________________________________________\n"
     ]
    }
   ],
   "source": [
    "model_neuralmf.summary()"
   ]
  },
  {
   "cell_type": "code",
   "execution_count": 47,
   "metadata": {},
   "outputs": [],
   "source": [
    "model_neuralmf.compile(optimizer=optimizers.Adam(lr=0.01),\n",
    "                       loss='mean_absolute_error')\n",
    "callbacks = [EarlyStopping('val_loss', patience=2), \n",
    "             ModelCheckpoint('neuralmf_weights.h5', save_best_only=True)]"
   ]
  },
  {
   "cell_type": "code",
   "execution_count": 48,
   "metadata": {},
   "outputs": [
    {
     "name": "stdout",
     "output_type": "stream",
     "text": [
      "Train on 720150 samples, validate on 80017 samples\n",
      "Epoch 1/10\n",
      "720150/720150 [==============================] - 358s 497us/sample - loss: 0.7704 - val_loss: 0.7194\n",
      "Epoch 2/10\n",
      "720150/720150 [==============================] - 307s 426us/sample - loss: 0.7201 - val_loss: 0.7278\n",
      "Epoch 3/10\n",
      "720150/720150 [==============================] - 307s 426us/sample - loss: 0.7056 - val_loss: 0.7002\n",
      "Epoch 4/10\n",
      "720150/720150 [==============================] - 307s 426us/sample - loss: 0.6987 - val_loss: 0.6909\n",
      "Epoch 5/10\n",
      "720150/720150 [==============================] - 307s 426us/sample - loss: 0.6942 - val_loss: 0.6958\n",
      "Epoch 6/10\n",
      "720150/720150 [==============================] - 307s 426us/sample - loss: 0.6916 - val_loss: 0.6894\n",
      "Epoch 7/10\n",
      "720150/720150 [==============================] - 307s 426us/sample - loss: 0.6890 - val_loss: 0.6901\n",
      "Epoch 8/10\n",
      "720150/720150 [==============================] - 307s 426us/sample - loss: 0.6863 - val_loss: 0.6853\n",
      "Epoch 9/10\n",
      "720150/720150 [==============================] - 307s 426us/sample - loss: 0.6822 - val_loss: 0.6910\n",
      "Epoch 10/10\n",
      "720150/720150 [==============================] - 307s 426us/sample - loss: 0.6650 - val_loss: 0.7121\n"
     ]
    }
   ],
   "source": [
    "history_neuralmf = model_neuralmf.fit([X_train.userID, X_train.movieID], X_train.rating, epochs=10,\n",
    "                                       validation_split=.1, verbose=1, callbacks=callbacks)"
   ]
  },
  {
   "cell_type": "code",
   "execution_count": 62,
   "metadata": {},
   "outputs": [
    {
     "name": "stdout",
     "output_type": "stream",
     "text": [
      "RMSE loss (NeuralMF) testset:  0.8407889743361613\n"
     ]
    }
   ],
   "source": [
    "pred = model_neuralmf.predict([X_test.userID, X_test.movieID])\n",
    "print(\"RMSE loss (NeuralMF) testset: \",np.sqrt(mean_absolute_error(X_test.rating, pred)))"
   ]
  },
  {
   "cell_type": "code",
   "execution_count": 170,
   "metadata": {},
   "outputs": [],
   "source": [
    "def recommend_movies(model, userID, num_recommendations):\n",
    "    pred = {}\n",
    "    rrs = []\n",
    "    for iid in ratings.movieID.unique():\n",
    "        pred[iid] = model_neuralmf.predict([np.array([userID]), np.array([iid])])\n",
    "\n",
    "    for k, v in sorted(pred.items(), key=lambda item: item[1])[::-1][:num_recommendations]:\n",
    "        rrs.append(movies.loc[movies.movieID == k])\n",
    "    \n",
    "    recommendation = pd.concat(rrs)\n",
    "    return recommendation"
   ]
  },
  {
   "cell_type": "code",
   "execution_count": 171,
   "metadata": {},
   "outputs": [
    {
     "data": {
      "text/html": [
       "<div>\n",
       "<style scoped>\n",
       "    .dataframe tbody tr th:only-of-type {\n",
       "        vertical-align: middle;\n",
       "    }\n",
       "\n",
       "    .dataframe tbody tr th {\n",
       "        vertical-align: top;\n",
       "    }\n",
       "\n",
       "    .dataframe thead th {\n",
       "        text-align: right;\n",
       "    }\n",
       "</style>\n",
       "<table border=\"1\" class=\"dataframe\">\n",
       "  <thead>\n",
       "    <tr style=\"text-align: right;\">\n",
       "      <th></th>\n",
       "      <th>movieID</th>\n",
       "      <th>title</th>\n",
       "      <th>genres</th>\n",
       "    </tr>\n",
       "  </thead>\n",
       "  <tbody>\n",
       "    <tr>\n",
       "      <th>1162</th>\n",
       "      <td>1178</td>\n",
       "      <td>Paths of Glory (1957)</td>\n",
       "      <td>Drama|War</td>\n",
       "    </tr>\n",
       "    <tr>\n",
       "      <th>3022</th>\n",
       "      <td>3091</td>\n",
       "      <td>Kagemusha (1980)</td>\n",
       "      <td>Drama|War</td>\n",
       "    </tr>\n",
       "    <tr>\n",
       "      <th>2901</th>\n",
       "      <td>2970</td>\n",
       "      <td>Fitzcarraldo (1982)</td>\n",
       "      <td>Adventure|Drama</td>\n",
       "    </tr>\n",
       "    <tr>\n",
       "      <th>1858</th>\n",
       "      <td>1927</td>\n",
       "      <td>All Quiet on the Western Front (1930)</td>\n",
       "      <td>War</td>\n",
       "    </tr>\n",
       "    <tr>\n",
       "      <th>2719</th>\n",
       "      <td>2788</td>\n",
       "      <td>And Now for Something Completely Different (1971)</td>\n",
       "      <td>Comedy</td>\n",
       "    </tr>\n",
       "    <tr>\n",
       "      <th>523</th>\n",
       "      <td>527</td>\n",
       "      <td>Schindler's List (1993)</td>\n",
       "      <td>Drama|War</td>\n",
       "    </tr>\n",
       "    <tr>\n",
       "      <th>2241</th>\n",
       "      <td>2310</td>\n",
       "      <td>Mighty, The (1998)</td>\n",
       "      <td>Drama</td>\n",
       "    </tr>\n",
       "    <tr>\n",
       "      <th>3265</th>\n",
       "      <td>3334</td>\n",
       "      <td>Key Largo (1948)</td>\n",
       "      <td>Crime|Drama|Film-Noir|Thriller</td>\n",
       "    </tr>\n",
       "    <tr>\n",
       "      <th>2657</th>\n",
       "      <td>2726</td>\n",
       "      <td>Killing, The (1956)</td>\n",
       "      <td>Crime|Film-Noir</td>\n",
       "    </tr>\n",
       "    <tr>\n",
       "      <th>2867</th>\n",
       "      <td>2936</td>\n",
       "      <td>Sullivan's Travels (1942)</td>\n",
       "      <td>Comedy</td>\n",
       "    </tr>\n",
       "    <tr>\n",
       "      <th>287</th>\n",
       "      <td>290</td>\n",
       "      <td>Once Were Warriors (1994)</td>\n",
       "      <td>Crime|Drama</td>\n",
       "    </tr>\n",
       "    <tr>\n",
       "      <th>3299</th>\n",
       "      <td>3368</td>\n",
       "      <td>Big Country, The (1958)</td>\n",
       "      <td>Romance|Western</td>\n",
       "    </tr>\n",
       "    <tr>\n",
       "      <th>2999</th>\n",
       "      <td>3068</td>\n",
       "      <td>Verdict, The (1982)</td>\n",
       "      <td>Drama</td>\n",
       "    </tr>\n",
       "    <tr>\n",
       "      <th>1218</th>\n",
       "      <td>1237</td>\n",
       "      <td>Seventh Seal, The (Sjunde inseglet, Det) (1957)</td>\n",
       "      <td>Drama</td>\n",
       "    </tr>\n",
       "    <tr>\n",
       "      <th>1327</th>\n",
       "      <td>1348</td>\n",
       "      <td>Nosferatu (Nosferatu, eine Symphonie des Graue...</td>\n",
       "      <td>Horror</td>\n",
       "    </tr>\n",
       "    <tr>\n",
       "      <th>3400</th>\n",
       "      <td>3469</td>\n",
       "      <td>Inherit the Wind (1960)</td>\n",
       "      <td>Drama</td>\n",
       "    </tr>\n",
       "    <tr>\n",
       "      <th>3155</th>\n",
       "      <td>3224</td>\n",
       "      <td>Woman in the Dunes (Suna no onna) (1964)</td>\n",
       "      <td>Drama</td>\n",
       "    </tr>\n",
       "    <tr>\n",
       "      <th>1115</th>\n",
       "      <td>1131</td>\n",
       "      <td>Jean de Florette (1986)</td>\n",
       "      <td>Drama</td>\n",
       "    </tr>\n",
       "    <tr>\n",
       "      <th>2260</th>\n",
       "      <td>2329</td>\n",
       "      <td>American History X (1998)</td>\n",
       "      <td>Drama</td>\n",
       "    </tr>\n",
       "    <tr>\n",
       "      <th>322</th>\n",
       "      <td>326</td>\n",
       "      <td>To Live (Huozhe) (1994)</td>\n",
       "      <td>Drama</td>\n",
       "    </tr>\n",
       "  </tbody>\n",
       "</table>\n",
       "</div>"
      ],
      "text/plain": [
       "      movieID                                              title  \\\n",
       "1162     1178                              Paths of Glory (1957)   \n",
       "3022     3091                                   Kagemusha (1980)   \n",
       "2901     2970                                Fitzcarraldo (1982)   \n",
       "1858     1927              All Quiet on the Western Front (1930)   \n",
       "2719     2788  And Now for Something Completely Different (1971)   \n",
       "523       527                            Schindler's List (1993)   \n",
       "2241     2310                                 Mighty, The (1998)   \n",
       "3265     3334                                   Key Largo (1948)   \n",
       "2657     2726                                Killing, The (1956)   \n",
       "2867     2936                          Sullivan's Travels (1942)   \n",
       "287       290                          Once Were Warriors (1994)   \n",
       "3299     3368                            Big Country, The (1958)   \n",
       "2999     3068                                Verdict, The (1982)   \n",
       "1218     1237    Seventh Seal, The (Sjunde inseglet, Det) (1957)   \n",
       "1327     1348  Nosferatu (Nosferatu, eine Symphonie des Graue...   \n",
       "3400     3469                            Inherit the Wind (1960)   \n",
       "3155     3224           Woman in the Dunes (Suna no onna) (1964)   \n",
       "1115     1131                            Jean de Florette (1986)   \n",
       "2260     2329                          American History X (1998)   \n",
       "322       326                            To Live (Huozhe) (1994)   \n",
       "\n",
       "                              genres  \n",
       "1162                       Drama|War  \n",
       "3022                       Drama|War  \n",
       "2901                 Adventure|Drama  \n",
       "1858                             War  \n",
       "2719                          Comedy  \n",
       "523                        Drama|War  \n",
       "2241                           Drama  \n",
       "3265  Crime|Drama|Film-Noir|Thriller  \n",
       "2657                 Crime|Film-Noir  \n",
       "2867                          Comedy  \n",
       "287                      Crime|Drama  \n",
       "3299                 Romance|Western  \n",
       "2999                           Drama  \n",
       "1218                           Drama  \n",
       "1327                          Horror  \n",
       "3400                           Drama  \n",
       "3155                           Drama  \n",
       "1115                           Drama  \n",
       "2260                           Drama  \n",
       "322                            Drama  "
      ]
     },
     "execution_count": 171,
     "metadata": {},
     "output_type": "execute_result"
    }
   ],
   "source": [
    "recommend_movies(model_neuralmf, 96, 20)"
   ]
  },
  {
   "cell_type": "markdown",
   "metadata": {},
   "source": [
    "## 5. Comparison"
   ]
  },
  {
   "cell_type": "code",
   "execution_count": null,
   "metadata": {},
   "outputs": [],
   "source": [
    "xx = test_benchmark.copy().groupby('userID')['movieID'].agg(actual=(lambda x: list(set(x))))"
   ]
  },
  {
   "cell_type": "markdown",
   "metadata": {},
   "source": [
    "### 5.1 RMSE"
   ]
  },
  {
   "cell_type": "code",
   "execution_count": 262,
   "metadata": {},
   "outputs": [
    {
     "data": {
      "text/html": [
       "<div>\n",
       "<style scoped>\n",
       "    .dataframe tbody tr th:only-of-type {\n",
       "        vertical-align: middle;\n",
       "    }\n",
       "\n",
       "    .dataframe tbody tr th {\n",
       "        vertical-align: top;\n",
       "    }\n",
       "\n",
       "    .dataframe thead th {\n",
       "        text-align: right;\n",
       "    }\n",
       "</style>\n",
       "<table border=\"1\" class=\"dataframe\">\n",
       "  <thead>\n",
       "    <tr style=\"text-align: right;\">\n",
       "      <th></th>\n",
       "      <th>Algorithms</th>\n",
       "      <th>RMSE loss</th>\n",
       "    </tr>\n",
       "  </thead>\n",
       "  <tbody>\n",
       "    <tr>\n",
       "      <th>0</th>\n",
       "      <td>TruncatedSVD</td>\n",
       "      <td>3.4342</td>\n",
       "    </tr>\n",
       "    <tr>\n",
       "      <th>1</th>\n",
       "      <td>SlowSVD</td>\n",
       "      <td>0.9754</td>\n",
       "    </tr>\n",
       "    <tr>\n",
       "      <th>2</th>\n",
       "      <td>FastSVD</td>\n",
       "      <td>0.8559</td>\n",
       "    </tr>\n",
       "    <tr>\n",
       "      <th>3</th>\n",
       "      <td>NMF</td>\n",
       "      <td>0.9118</td>\n",
       "    </tr>\n",
       "    <tr>\n",
       "      <th>4</th>\n",
       "      <td>DeepMF</td>\n",
       "      <td>0.8487</td>\n",
       "    </tr>\n",
       "    <tr>\n",
       "      <th>5</th>\n",
       "      <td>NeuralMF</td>\n",
       "      <td>0.8408</td>\n",
       "    </tr>\n",
       "  </tbody>\n",
       "</table>\n",
       "</div>"
      ],
      "text/plain": [
       "     Algorithms  RMSE loss\n",
       "0  TruncatedSVD     3.4342\n",
       "1       SlowSVD     0.9754\n",
       "2       FastSVD     0.8559\n",
       "3           NMF     0.9118\n",
       "4        DeepMF     0.8487\n",
       "5      NeuralMF     0.8408"
      ]
     },
     "execution_count": 262,
     "metadata": {},
     "output_type": "execute_result"
    }
   ],
   "source": [
    "loss_all = {'Algorithms': ['TruncatedSVD', 'SlowSVD', 'FastSVD', 'NMF', 'DeepMF', 'NeuralMF'],\n",
    "            'RMSE loss': [3.4342, 0.9754, 0.8559, 0.9118, 0.8487, 0.8408]}\n",
    "pd.DataFrame.from_dict(loss_all)"
   ]
  },
  {
   "cell_type": "markdown",
   "metadata": {},
   "source": [
    "### 5.2 MAR@k"
   ]
  },
  {
   "cell_type": "code",
   "execution_count": 188,
   "metadata": {},
   "outputs": [],
   "source": [
    "actual = xx.actual.values.tolist()\n",
    "slowsvd_predictions = xx.slow_svd.values.tolist()\n",
    "fastsvd_predictions = xx.fast_svd.tolist()\n",
    "nmf_predictions = xx.nmf.tolist()"
   ]
  },
  {
   "cell_type": "code",
   "execution_count": 189,
   "metadata": {},
   "outputs": [],
   "source": [
    "slow_svd_mark = []\n",
    "fast_svd_mark = []\n",
    "nmf_mark = []\n",
    "for K in np.arange(1, 11):\n",
    "    slow_svd_mark.extend([recmetrics.mark(actual, slowsvd_predictions, k=K)])\n",
    "    fast_svd_mark.extend([recmetrics.mark(actual, fastsvd_predictions, k=K)])\n",
    "    nmf_mark.extend([recmetrics.mark(actual, nmf_predictions, k=K)])\n"
   ]
  },
  {
   "cell_type": "code",
   "execution_count": 198,
   "metadata": {},
   "outputs": [
    {
     "data": {
      "image/png": "[encoded data removed]",
      "text/plain": [
       "<Figure size 1080x504 with 1 Axes>"
      ]
     },
     "metadata": {},
     "output_type": "display_data"
    }
   ],
   "source": [
    "mark_scores = [slow_svd_mark, fast_svd_mark, nmf_mark]\n",
    "index = range(1,10+1)\n",
    "names = ['SlowSVD', 'FastSVD', 'NMF(unbiased)']\n",
    "\n",
    "fig = plt.figure(figsize=(15, 7))\n",
    "recmetrics.mark_plot(mark_scores, model_names=names, k_range=index)"
   ]
  },
  {
   "cell_type": "markdown",
   "metadata": {},
   "source": [
    "### 5.3 Coverage"
   ]
  },
  {
   "cell_type": "code",
   "execution_count": 200,
   "metadata": {},
   "outputs": [],
   "source": [
    "catalog = ratings.movieID.unique().tolist()\n",
    "slowsvd_coverage = recmetrics.catalog_coverage(slowsvd_predictions, catalog, 100)\n",
    "fastsvd_coverage = recmetrics.catalog_coverage(fastsvd_predictions, catalog, 100)\n",
    "nmf_coverage = recmetrics.catalog_coverage(nmf_predictions, catalog, 100)"
   ]
  },
  {
   "cell_type": "code",
   "execution_count": 201,
   "metadata": {},
   "outputs": [
    {
     "data": {
      "image/png": "[encoded data removed]",
      "text/plain": [
       "<Figure size 504x360 with 1 Axes>"
      ]
     },
     "metadata": {},
     "output_type": "display_data"
    }
   ],
   "source": [
    "coverage_scores = [slowsvd_coverage, fastsvd_coverage, nmf_coverage]\n",
    "model_names = ['SlowSVD', 'FastSVD', 'NMF(unbiased)']\n",
    "\n",
    "fig = plt.figure(figsize=(7, 5))\n",
    "recmetrics.coverage_plot(coverage_scores, model_names)"
   ]
  }
 ],
 "metadata": {
  "kernelspec": {
   "display_name": "Python 3",
   "language": "python",
   "name": "python3"
  },
  "language_info": {
   "codemirror_mode": {
    "name": "ipython",
    "version": 3
   },
   "file_extension": ".py",
   "mimetype": "text/x-python",
   "name": "python",
   "nbconvert_exporter": "python",
   "pygments_lexer": "ipython3",
   "version": "3.7.7"
  }
 },
 "nbformat": 4,
 "nbformat_minor": 4
}
