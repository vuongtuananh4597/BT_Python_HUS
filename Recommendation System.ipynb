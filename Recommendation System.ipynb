{
 "cells": [
  {
   "cell_type": "markdown",
   "metadata": {},
   "source": [
    "# Recommendation System\n",
    "1. Content-based model<br>\n",
    "2. Collaborative filtering model<br>\n",
    "3. Matrix Factorization<br>\n",
    "4. Deep model"
   ]
  },
  {
   "cell_type": "markdown",
   "metadata": {},
   "source": [
    "1. Content-based model\n",
    "- Ma trận user-item được xây dựng dựa theo \"nội dung\" của item mà không quan tâm mối liên hệ giữa các user\n",
    "- item được phân loại theo từng cluster theo từng mục đích (nội dung, tags, ...)\n",
    "- Xây dựng ma trận theo độ tương quan \n",
    "1.1 Utility matrix\n",
    "- Là ma trận với index hàng là user và cột là item (NxM)\n",
    "- Giá trị được sử dụng là điểm rating của từng user với một hay nhiều item. Điều này dẫn đến ma trận xây dựng được là ma trận thưa\n",
    "\n",
    "\n",
    "(bổ sung)"
   ]
  },
  {
   "cell_type": "code",
   "execution_count": 8,
   "metadata": {},
   "outputs": [],
   "source": [
    "import os\n",
    "from pprint import pprint\n",
    "import pandas as pd\n",
    "import numpy as np\n",
    "import matplotlib.pyplot as plt\n",
    "import seaborn as sns\n",
    "from scipy.sparse.linalg import svds\n",
    "\n",
    "from utils import train_test_split\n",
    "from model_selection import fastSVD, NMF, SVD\n",
    "\n",
    "sns.set(rc={'figure.figsize':(10, 6)})"
   ]
  },
  {
   "cell_type": "code",
   "execution_count": 2,
   "metadata": {},
   "outputs": [],
   "source": [
    "sns.set(rc={'figure.figsize':(10, 6)})\n",
    "seed = 123\n",
    "np.random.seed(seed)"
   ]
  },
  {
   "cell_type": "markdown",
   "metadata": {},
   "source": [
    "## 1. Load data\n",
    "\n",
    "### Summary\n",
    "\n",
    "```\n",
    "ml-1m\n",
    "├── users.dat\n",
    "├── movies.dat\n",
    "├── ratings.dat\n",
    "└── README.txt\n",
    "```"
   ]
  },
  {
   "cell_type": "code",
   "execution_count": 3,
   "metadata": {},
   "outputs": [],
   "source": [
    "PATH = \"ml-1m/\"\n",
    "ratings = pd.read_csv(os.path.join(PATH, 'ratings.dat'), sep='::', names=[\"userID\", \"movieID\", \"rating\", \"timestamp\"], engine='python')\n",
    "movies = pd.read_csv(os.path.join(PATH, 'movies.dat'), sep='::', names=[\"movieID\", \"title\", \"genres\"], engine='python')\n",
    "users = pd.read_csv(os.path.join(PATH, 'users.dat'), sep='::', names=[\"userID\", \"gender\", \"age\", \"occupation\", \"zipcode\"], engine='python')"
   ]
  },
  {
   "cell_type": "code",
   "execution_count": 4,
   "metadata": {},
   "outputs": [
    {
     "data": {
      "text/html": [
       "<div>\n",
       "<style scoped>\n",
       "    .dataframe tbody tr th:only-of-type {\n",
       "        vertical-align: middle;\n",
       "    }\n",
       "\n",
       "    .dataframe tbody tr th {\n",
       "        vertical-align: top;\n",
       "    }\n",
       "\n",
       "    .dataframe thead th {\n",
       "        text-align: right;\n",
       "    }\n",
       "</style>\n",
       "<table border=\"1\" class=\"dataframe\">\n",
       "  <thead>\n",
       "    <tr style=\"text-align: right;\">\n",
       "      <th></th>\n",
       "      <th>userID</th>\n",
       "      <th>gender</th>\n",
       "      <th>age</th>\n",
       "      <th>occupation</th>\n",
       "      <th>zipcode</th>\n",
       "    </tr>\n",
       "  </thead>\n",
       "  <tbody>\n",
       "    <tr>\n",
       "      <th>0</th>\n",
       "      <td>1</td>\n",
       "      <td>F</td>\n",
       "      <td>1</td>\n",
       "      <td>10</td>\n",
       "      <td>48067</td>\n",
       "    </tr>\n",
       "    <tr>\n",
       "      <th>1</th>\n",
       "      <td>2</td>\n",
       "      <td>M</td>\n",
       "      <td>56</td>\n",
       "      <td>16</td>\n",
       "      <td>70072</td>\n",
       "    </tr>\n",
       "    <tr>\n",
       "      <th>2</th>\n",
       "      <td>3</td>\n",
       "      <td>M</td>\n",
       "      <td>25</td>\n",
       "      <td>15</td>\n",
       "      <td>55117</td>\n",
       "    </tr>\n",
       "    <tr>\n",
       "      <th>3</th>\n",
       "      <td>4</td>\n",
       "      <td>M</td>\n",
       "      <td>45</td>\n",
       "      <td>7</td>\n",
       "      <td>02460</td>\n",
       "    </tr>\n",
       "    <tr>\n",
       "      <th>4</th>\n",
       "      <td>5</td>\n",
       "      <td>M</td>\n",
       "      <td>25</td>\n",
       "      <td>20</td>\n",
       "      <td>55455</td>\n",
       "    </tr>\n",
       "    <tr>\n",
       "      <th>...</th>\n",
       "      <td>...</td>\n",
       "      <td>...</td>\n",
       "      <td>...</td>\n",
       "      <td>...</td>\n",
       "      <td>...</td>\n",
       "    </tr>\n",
       "    <tr>\n",
       "      <th>6035</th>\n",
       "      <td>6036</td>\n",
       "      <td>F</td>\n",
       "      <td>25</td>\n",
       "      <td>15</td>\n",
       "      <td>32603</td>\n",
       "    </tr>\n",
       "    <tr>\n",
       "      <th>6036</th>\n",
       "      <td>6037</td>\n",
       "      <td>F</td>\n",
       "      <td>45</td>\n",
       "      <td>1</td>\n",
       "      <td>76006</td>\n",
       "    </tr>\n",
       "    <tr>\n",
       "      <th>6037</th>\n",
       "      <td>6038</td>\n",
       "      <td>F</td>\n",
       "      <td>56</td>\n",
       "      <td>1</td>\n",
       "      <td>14706</td>\n",
       "    </tr>\n",
       "    <tr>\n",
       "      <th>6038</th>\n",
       "      <td>6039</td>\n",
       "      <td>F</td>\n",
       "      <td>45</td>\n",
       "      <td>0</td>\n",
       "      <td>01060</td>\n",
       "    </tr>\n",
       "    <tr>\n",
       "      <th>6039</th>\n",
       "      <td>6040</td>\n",
       "      <td>M</td>\n",
       "      <td>25</td>\n",
       "      <td>6</td>\n",
       "      <td>11106</td>\n",
       "    </tr>\n",
       "  </tbody>\n",
       "</table>\n",
       "<p>6040 rows × 5 columns</p>\n",
       "</div>"
      ],
      "text/plain": [
       "      userID gender  age  occupation zipcode\n",
       "0          1      F    1          10   48067\n",
       "1          2      M   56          16   70072\n",
       "2          3      M   25          15   55117\n",
       "3          4      M   45           7   02460\n",
       "4          5      M   25          20   55455\n",
       "...      ...    ...  ...         ...     ...\n",
       "6035    6036      F   25          15   32603\n",
       "6036    6037      F   45           1   76006\n",
       "6037    6038      F   56           1   14706\n",
       "6038    6039      F   45           0   01060\n",
       "6039    6040      M   25           6   11106\n",
       "\n",
       "[6040 rows x 5 columns]"
      ]
     },
     "execution_count": 4,
     "metadata": {},
     "output_type": "execute_result"
    }
   ],
   "source": [
    "users"
   ]
  },
  {
   "cell_type": "markdown",
   "metadata": {},
   "source": [
    "## 2. EDA"
   ]
  },
  {
   "cell_type": "markdown",
   "metadata": {},
   "source": [
    "### 2.1 ratings.dat"
   ]
  },
  {
   "cell_type": "code",
   "execution_count": null,
   "metadata": {},
   "outputs": [],
   "source": [
    "ratings.head()"
   ]
  },
  {
   "cell_type": "code",
   "execution_count": null,
   "metadata": {},
   "outputs": [],
   "source": [
    "sns.distplot(ratings[\"rating\"], kde=False)"
   ]
  },
  {
   "cell_type": "code",
   "execution_count": null,
   "metadata": {},
   "outputs": [],
   "source": [
    "ratings['datetime'] = pd.to_datetime(ratings['timestamp'], unit='s')\n",
    "ratings.drop('timestamp', axis=1, inplace=True)\n",
    "sns.distplot(ratings['datetime'], kde=False)"
   ]
  },
  {
   "cell_type": "code",
   "execution_count": null,
   "metadata": {},
   "outputs": [],
   "source": [
    "num_userId = len(ratings.userID.unique())\n",
    "num_movieId = len(ratings.movieID.unique())\n",
    "print(num_userId)\n",
    "print(num_movieId)\n",
    "print(\"Coverage : {:.4f}%\".format(len(ratings) * 100 / (num_userId * num_movieId)))"
   ]
  },
  {
   "cell_type": "markdown",
   "metadata": {},
   "source": [
    "### 2.2 movies.dat"
   ]
  },
  {
   "cell_type": "code",
   "execution_count": null,
   "metadata": {},
   "outputs": [],
   "source": [
    "movies.head()"
   ]
  },
  {
   "cell_type": "code",
   "execution_count": null,
   "metadata": {},
   "outputs": [],
   "source": [
    "movies_refine = movies.copy()\n",
    "movies_refine['year'] = (movies_refine['title'].str.extract(r'(\\d{4})')).astype('int32')\n",
    "movies_refine = movies_refine.dropna()\n",
    "movies_refine['title'] = (movies_refine['title'].str.extract(r'(^[^\\(]+)'))[0]\n",
    "movies_refine['genres'] = movies_refine['genres'].str.split('|')\n",
    "\n",
    "movies_refine"
   ]
  },
  {
   "cell_type": "code",
   "execution_count": null,
   "metadata": {},
   "outputs": [],
   "source": [
    "movies_refine.year.unique()\n",
    "movies_refine.year.value_counts()"
   ]
  },
  {
   "cell_type": "code",
   "execution_count": null,
   "metadata": {},
   "outputs": [],
   "source": [
    "genre_count = dict()\n",
    "for index, series in movies_refine.iterrows():\n",
    "    for genre in series['genres']:\n",
    "        genre_count[genre] = genre_count.get(genre, 0) + 1\n",
    "pprint(genre_count)"
   ]
  },
  {
   "cell_type": "markdown",
   "metadata": {},
   "source": [
    "### 2.3 users.dat"
   ]
  },
  {
   "cell_type": "code",
   "execution_count": null,
   "metadata": {},
   "outputs": [],
   "source": [
    "users.head()"
   ]
  },
  {
   "cell_type": "code",
   "execution_count": null,
   "metadata": {},
   "outputs": [],
   "source": [
    "users.gender.value_counts()"
   ]
  },
  {
   "cell_type": "code",
   "execution_count": null,
   "metadata": {},
   "outputs": [],
   "source": [
    "users.age.value_counts()"
   ]
  },
  {
   "cell_type": "code",
   "execution_count": null,
   "metadata": {},
   "outputs": [],
   "source": [
    "len(users)"
   ]
  },
  {
   "cell_type": "code",
   "execution_count": null,
   "metadata": {},
   "outputs": [],
   "source": [
    "len(ratings.userID.unique())"
   ]
  },
  {
   "cell_type": "markdown",
   "metadata": {},
   "source": [
    "## 3. Matrix Factorization Collaborative Filtering"
   ]
  },
  {
   "cell_type": "markdown",
   "metadata": {},
   "source": [
    "Giải quyết vấn đề về ma trận thưa\n",
    "- Tính mean của giá trị theo hàng :\n",
    "$E(x) = \\sum_{i=1}^{m} v_i $\n",
    "- Chuẩn hoá : trừ giá trị hàng cho mean của từng hàng\n",
    "\n",
    "- Tính ma trận hiệp phương sai :\n",
    "(công thức)\n",
    "\n",
    "SVD:\n",
    "Tách utility matrix thành 3 ma trận : user - strength, strength - strength, strength - item\n",
    "Ví dụ:\n",
    "$$\\begin{bmatrix}\n",
    " 3 &2 &2 \\\\\n",
    "  2  &3 &-2 \n",
    "\\end{bmatrix}\n",
    "=\n",
    "\\begin{bmatrix}\n",
    " 1/\\sqrt[]{2}  & 1/\\sqrt[]{2} \\\\\n",
    "  1/\\sqrt[]{2}  & -1/\\sqrt[]{2} \n",
    "\\end{bmatrix}\n",
    ".\n",
    "\\begin{bmatrix}\n",
    " 5 &0 &0 \\\\\n",
    " 0 &3 &0 \n",
    "\\end{bmatrix}\n",
    ".\n",
    "\\begin{bmatrix}\n",
    " 1/\\sqrt[]{2}  & 1/\\sqrt[]{2}  &0 \\\\\n",
    "  1/\\sqrt[]{18}  & -1/\\sqrt[]{18} & -1/\\sqrt[]{18} \\\\\n",
    "2/3 & -2/3 & -1/3\n",
    "\\end{bmatrix} $$\n",
    "\n",
    "Giả sử ma trận A(2x3) tương ứng với 2 user - 3 items , value là rating của mỗi user tương ứng với mỗi item:\n",
    "- Ma trận U (2x2) : mỗi cột thể hiện độ \"mạnh\" tương ứng trị riêng của ma trận $\\sum$\n",
    "- Ma trận $\\sum$ (2x3): là ma trận đường chéo với trị riêng giảm dần (Giá trị $\\sigma _{1}$ là giá trị có độ mạnh )\n",
    "- Ma trận V (3x3) : mỗi hàng thể hiện khả năng match giữ mỗi cluster của item và điểm rating của mỗi user"
   ]
  },
  {
   "cell_type": "markdown",
   "metadata": {},
   "source": [
    "### 3.1 Low rank Approximation (Truncated SVD)"
   ]
  },
  {
   "cell_type": "code",
   "execution_count": null,
   "metadata": {},
   "outputs": [],
   "source": [
    "data_mat = np.array(ratings.pivot(index = 'movieID', columns = 'userID', values = 'rating'))\n",
    "data_mat = np.nan_to_num(data_mat)"
   ]
  },
  {
   "cell_type": "code",
   "execution_count": null,
   "metadata": {},
   "outputs": [],
   "source": [
    "nor_data_mat = train - np.mean(train, axis = 0)\n",
    "u, s, vT = svds(nor_data_mat, k = 50)  # 50 eigenvalues"
   ]
  },
  {
   "cell_type": "code",
   "execution_count": null,
   "metadata": {},
   "outputs": [],
   "source": [
    "recon_data_mat = u.dot(np.diag(s)).dot(vT)\n",
    "recon_data_mat"
   ]
  },
  {
   "cell_type": "code",
   "execution_count": null,
   "metadata": {},
   "outputs": [],
   "source": [
    "def recommend_movies(pred_matrix, userID, num_recommendations):\n",
    "    \"\"\"Recommend movies based on reconstructed svd matrix\n",
    "    Params:\n",
    "     - pred_matrix (num_movies, num_users) : reconstructed matrix\n",
    "     - userID (scalar)\n",
    "     - num_recommendations (scalar)\n",
    "    Outputs:\n",
    "     - movies\n",
    "    \"\"\"\n",
    "    sorted_predict_idx = np.argsort(pred_matrix[:, userID-1])[::-1]\n",
    "\n",
    "    user_data = ratings[ratings.userID == (userID)]\n",
    "    user_full = user_data.merge(movies_refine).sort_values(['rating'], ascending=False)\n",
    "    # print(user_full)\n",
    "    print('User {0} has already rated {1} movies.'.format(userID, len(user_full)))\n",
    "    print('Recommending highest {0} predicted ratings movies not already rated.'.format(num_recommendations))\n",
    "\n",
    "    recommendations = movies_refine.iloc[sorted_predict_idx, :][~movies_refine.movieID.isin(user_full.movieID)]\n",
    "\n",
    "    return user_full, recommendations.head(num_recommendations)"
   ]
  },
  {
   "cell_type": "code",
   "execution_count": null,
   "metadata": {},
   "outputs": [],
   "source": [
    "rated, _ = recommend_movies(recon_data_mat, 1310, 20)\n",
    "_"
   ]
  },
  {
   "cell_type": "markdown",
   "metadata": {},
   "source": [
    "### 3.2.1 FunkSVD (slow ver.)"
   ]
  },
  {
   "cell_type": "code",
   "execution_count": null,
   "metadata": {},
   "outputs": [],
   "source": [
    "model_svd = SVD(ratings, K=10, lambd=.1, lr_rate=0.75, max_iter=100, verbose=True, user_based=1, use_biased=False)"
   ]
  },
  {
   "cell_type": "markdown",
   "metadata": {},
   "source": [
    "### 3.2.2 FunkSVD (fast ver.)"
   ]
  },
  {
   "cell_type": "code",
   "execution_count": 5,
   "metadata": {},
   "outputs": [],
   "source": [
    "X_train, X_valid, X_test = train_test_split(ratings, split_ratio=0.7, shuffle=True)"
   ]
  },
  {
   "cell_type": "code",
   "execution_count": 6,
   "metadata": {},
   "outputs": [
    {
     "name": "stdout",
     "output_type": "stream",
     "text": [
      "Load data & Preprocessing !\n",
      "Epoch 1/50\n",
      "Valid loss: 0.90869 --- Valid RMSE: 0.95325 --- Valid MAE: 0.76154\n",
      "Epoch 2/50\n",
      "Valid loss: 0.86726 --- Valid RMSE: 0.93127 --- Valid MAE: 0.74082\n",
      "Epoch 3/50\n",
      "Valid loss: 0.85143 --- Valid RMSE: 0.92273 --- Valid MAE: 0.73304\n",
      "Epoch 4/50\n",
      "Valid loss: 0.84337 --- Valid RMSE: 0.91835 --- Valid MAE: 0.72902\n",
      "Epoch 5/50\n",
      "Valid loss: 0.83863 --- Valid RMSE: 0.91577 --- Valid MAE: 0.72662\n",
      "Epoch 6/50\n",
      "Valid loss: 0.83558 --- Valid RMSE: 0.91410 --- Valid MAE: 0.72505\n",
      "Epoch 7/50\n",
      "Valid loss: 0.83348 --- Valid RMSE: 0.91295 --- Valid MAE: 0.72395\n",
      "Epoch 8/50\n",
      "Valid loss: 0.83192 --- Valid RMSE: 0.91210 --- Valid MAE: 0.72313\n",
      "Epoch 9/50\n",
      "Valid loss: 0.83069 --- Valid RMSE: 0.91142 --- Valid MAE: 0.72247\n",
      "Epoch 10/50\n",
      "Valid loss: 0.82964 --- Valid RMSE: 0.91085 --- Valid MAE: 0.72192\n",
      "Epoch 11/50\n",
      "Valid loss: 0.82866 --- Valid RMSE: 0.91031 --- Valid MAE: 0.72141\n",
      "Epoch 12/50\n",
      "Valid loss: 0.82766 --- Valid RMSE: 0.90976 --- Valid MAE: 0.72091\n",
      "Epoch 13/50\n",
      "Valid loss: 0.82654 --- Valid RMSE: 0.90914 --- Valid MAE: 0.72036\n",
      "Epoch 14/50\n",
      "Valid loss: 0.82522 --- Valid RMSE: 0.90842 --- Valid MAE: 0.71974\n",
      "Epoch 15/50\n",
      "Valid loss: 0.82361 --- Valid RMSE: 0.90753 --- Valid MAE: 0.71899\n",
      "Epoch 16/50\n",
      "Valid loss: 0.82165 --- Valid RMSE: 0.90645 --- Valid MAE: 0.71808\n",
      "Epoch 17/50\n",
      "Valid loss: 0.81929 --- Valid RMSE: 0.90515 --- Valid MAE: 0.71700\n",
      "Epoch 18/50\n",
      "Valid loss: 0.81656 --- Valid RMSE: 0.90363 --- Valid MAE: 0.71574\n",
      "Epoch 19/50\n",
      "Valid loss: 0.81351 --- Valid RMSE: 0.90195 --- Valid MAE: 0.71432\n",
      "Epoch 20/50\n",
      "Valid loss: 0.81028 --- Valid RMSE: 0.90015 --- Valid MAE: 0.71281\n",
      "Epoch 21/50\n",
      "Valid loss: 0.80699 --- Valid RMSE: 0.89833 --- Valid MAE: 0.71127\n",
      "Epoch 22/50\n",
      "Valid loss: 0.80377 --- Valid RMSE: 0.89653 --- Valid MAE: 0.70976\n",
      "Epoch 23/50\n",
      "Valid loss: 0.80067 --- Valid RMSE: 0.89480 --- Valid MAE: 0.70831\n",
      "Epoch 24/50\n",
      "Valid loss: 0.79772 --- Valid RMSE: 0.89315 --- Valid MAE: 0.70693\n",
      "Epoch 25/50\n",
      "Valid loss: 0.79492 --- Valid RMSE: 0.89158 --- Valid MAE: 0.70561\n",
      "Epoch 26/50\n",
      "Valid loss: 0.79224 --- Valid RMSE: 0.89008 --- Valid MAE: 0.70435\n",
      "Epoch 27/50\n",
      "Valid loss: 0.78965 --- Valid RMSE: 0.88862 --- Valid MAE: 0.70313\n",
      "Epoch 28/50\n",
      "Valid loss: 0.78713 --- Valid RMSE: 0.88721 --- Valid MAE: 0.70194\n",
      "Epoch 29/50\n",
      "Valid loss: 0.78468 --- Valid RMSE: 0.88582 --- Valid MAE: 0.70078\n",
      "Epoch 30/50\n",
      "Valid loss: 0.78227 --- Valid RMSE: 0.88446 --- Valid MAE: 0.69965\n",
      "Epoch 31/50\n",
      "Valid loss: 0.77991 --- Valid RMSE: 0.88313 --- Valid MAE: 0.69853\n",
      "Epoch 32/50\n",
      "Valid loss: 0.77761 --- Valid RMSE: 0.88182 --- Valid MAE: 0.69744\n",
      "Epoch 33/50\n",
      "Valid loss: 0.77537 --- Valid RMSE: 0.88055 --- Valid MAE: 0.69637\n",
      "Epoch 34/50\n",
      "Valid loss: 0.77320 --- Valid RMSE: 0.87932 --- Valid MAE: 0.69533\n",
      "Epoch 35/50\n",
      "Valid loss: 0.77111 --- Valid RMSE: 0.87813 --- Valid MAE: 0.69431\n",
      "Epoch 36/50\n",
      "Valid loss: 0.76911 --- Valid RMSE: 0.87699 --- Valid MAE: 0.69334\n",
      "Epoch 37/50\n",
      "Valid loss: 0.76719 --- Valid RMSE: 0.87589 --- Valid MAE: 0.69240\n",
      "Epoch 38/50\n",
      "Valid loss: 0.76536 --- Valid RMSE: 0.87485 --- Valid MAE: 0.69149\n",
      "Epoch 39/50\n",
      "Valid loss: 0.76362 --- Valid RMSE: 0.87386 --- Valid MAE: 0.69063\n",
      "Epoch 40/50\n",
      "Valid loss: 0.76197 --- Valid RMSE: 0.87291 --- Valid MAE: 0.68981\n",
      "Epoch 41/50\n",
      "Valid loss: 0.76040 --- Valid RMSE: 0.87201 --- Valid MAE: 0.68903\n",
      "Epoch 42/50\n",
      "Valid loss: 0.75892 --- Valid RMSE: 0.87116 --- Valid MAE: 0.68829\n",
      "Epoch 43/50\n",
      "Valid loss: 0.75751 --- Valid RMSE: 0.87035 --- Valid MAE: 0.68758\n",
      "Epoch 44/50\n",
      "Valid loss: 0.75618 --- Valid RMSE: 0.86958 --- Valid MAE: 0.68691\n",
      "Epoch 45/50\n",
      "Valid loss: 0.75491 --- Valid RMSE: 0.86886 --- Valid MAE: 0.68627\n",
      "Epoch 46/50\n",
      "Valid loss: 0.75372 --- Valid RMSE: 0.86817 --- Valid MAE: 0.68566\n",
      "Epoch 47/50\n",
      "Valid loss: 0.75259 --- Valid RMSE: 0.86752 --- Valid MAE: 0.68507\n",
      "Epoch 48/50\n",
      "Valid loss: 0.75152 --- Valid RMSE: 0.86690 --- Valid MAE: 0.68452\n",
      "Epoch 49/50\n",
      "Valid loss: 0.75051 --- Valid RMSE: 0.86632 --- Valid MAE: 0.68400\n",
      "Epoch 50/50\n",
      "Valid loss: 0.74955 --- Valid RMSE: 0.86577 --- Valid MAE: 0.68350\n"
     ]
    }
   ],
   "source": [
    "model_svd = fastSVD(K=15, lambd=0.06, lr_rate=0.004, max_iter=50)\n",
    "model_svd.fit(X_train, X_valid, early_stopping=True, verbose=False, use_biased=True)"
   ]
  },
  {
   "cell_type": "code",
   "execution_count": null,
   "metadata": {},
   "outputs": [],
   "source": [
    "model_svd.predict(X_test)"
   ]
  },
  {
   "cell_type": "markdown",
   "metadata": {},
   "source": [
    "### 3.3 Nonnegative Matrix Factorization"
   ]
  },
  {
   "cell_type": "code",
   "execution_count": 9,
   "metadata": {},
   "outputs": [],
   "source": [
    "model_nmf = NMF(K=15, lambd_pu=0.4, lambd_qi=0.7, max_iter=10)"
   ]
  },
  {
   "cell_type": "code",
   "execution_count": 10,
   "metadata": {},
   "outputs": [
    {
     "name": "stdout",
     "output_type": "stream",
     "text": [
      "Load data & Preprocessing !\n",
      "Epoch 1/10\n",
      "Epoch 2/10\n",
      "Epoch 3/10\n",
      "Epoch 4/10\n",
      "Epoch 5/10\n",
      "Epoch 6/10\n",
      "Epoch 7/10\n",
      "Epoch 8/10\n",
      "Epoch 9/10\n",
      "Epoch 10/10\n",
      "Valid loss: 554988.3837439748 --- Valid RMSE: 744.9754249262018 --- Valid MAE: 10.595040921077269\n"
     ]
    }
   ],
   "source": [
    "model_nmf.fit(X_train, X_valid, early_stopping=False, verbose=True)"
   ]
  },
  {
   "cell_type": "markdown",
   "metadata": {},
   "source": [
    "## 4 Deep learning"
   ]
  },
  {
   "cell_type": "markdown",
   "metadata": {},
   "source": [
    "### 4.1 Simple deep model"
   ]
  },
  {
   "cell_type": "code",
   "execution_count": null,
   "metadata": {},
   "outputs": [],
   "source": []
  },
  {
   "cell_type": "markdown",
   "metadata": {},
   "source": [
    "### 4.2 Neural Collaborative Filtering"
   ]
  },
  {
   "cell_type": "code",
   "execution_count": null,
   "metadata": {},
   "outputs": [],
   "source": []
  }
 ],
 "metadata": {
  "kernelspec": {
   "display_name": "Python 3",
   "language": "python",
   "name": "python3"
  },
  "language_info": {
   "codemirror_mode": {
    "name": "ipython",
    "version": 3
   },
   "file_extension": ".py",
   "mimetype": "text/x-python",
   "name": "python",
   "nbconvert_exporter": "python",
   "pygments_lexer": "ipython3",
   "version": "3.7.7"
  }
 },
 "nbformat": 4,
 "nbformat_minor": 4
}
